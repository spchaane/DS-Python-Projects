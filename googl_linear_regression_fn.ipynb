{
 "cells": [
  {
   "cell_type": "markdown",
   "metadata": {},
   "source": [
    "**Explanatory Linear Regression Function**\n",
    "\n",
    "Explonatory Data Analysis to check how the Open, High, Low and Volume affects the closing price fot the GOOGL stock market"
   ]
  },
  {
   "cell_type": "code",
   "execution_count": 56,
   "metadata": {},
   "outputs": [],
   "source": [
    "#import necessary modules\n",
    "import pandas as pd\n",
    "import numpy as np"
   ]
  },
  {
   "cell_type": "code",
   "execution_count": 57,
   "metadata": {},
   "outputs": [
    {
     "data": {
      "text/html": [
       "<div>\n",
       "<style scoped>\n",
       "    .dataframe tbody tr th:only-of-type {\n",
       "        vertical-align: middle;\n",
       "    }\n",
       "\n",
       "    .dataframe tbody tr th {\n",
       "        vertical-align: top;\n",
       "    }\n",
       "\n",
       "    .dataframe thead th {\n",
       "        text-align: right;\n",
       "    }\n",
       "</style>\n",
       "<table border=\"1\" class=\"dataframe\">\n",
       "  <thead>\n",
       "    <tr style=\"text-align: right;\">\n",
       "      <th></th>\n",
       "      <th>Date</th>\n",
       "      <th>Open</th>\n",
       "      <th>High</th>\n",
       "      <th>Low</th>\n",
       "      <th>Close</th>\n",
       "      <th>Adj Close</th>\n",
       "      <th>Volume</th>\n",
       "    </tr>\n",
       "  </thead>\n",
       "  <tbody>\n",
       "    <tr>\n",
       "      <td>0</td>\n",
       "      <td>2020-02-19</td>\n",
       "      <td>1527.199951</td>\n",
       "      <td>1530.739990</td>\n",
       "      <td>1520.979980</td>\n",
       "      <td>1524.869995</td>\n",
       "      <td>1524.869995</td>\n",
       "      <td>1137300</td>\n",
       "    </tr>\n",
       "    <tr>\n",
       "      <td>1</td>\n",
       "      <td>2020-02-20</td>\n",
       "      <td>1519.010010</td>\n",
       "      <td>1527.069946</td>\n",
       "      <td>1504.260010</td>\n",
       "      <td>1516.989990</td>\n",
       "      <td>1516.989990</td>\n",
       "      <td>1298100</td>\n",
       "    </tr>\n",
       "    <tr>\n",
       "      <td>2</td>\n",
       "      <td>2020-02-21</td>\n",
       "      <td>1504.579956</td>\n",
       "      <td>1510.949951</td>\n",
       "      <td>1478.489990</td>\n",
       "      <td>1483.459961</td>\n",
       "      <td>1483.459961</td>\n",
       "      <td>2126000</td>\n",
       "    </tr>\n",
       "    <tr>\n",
       "      <td>3</td>\n",
       "      <td>2020-02-24</td>\n",
       "      <td>1423.050049</td>\n",
       "      <td>1436.380005</td>\n",
       "      <td>1406.790039</td>\n",
       "      <td>1419.859985</td>\n",
       "      <td>1419.859985</td>\n",
       "      <td>2478000</td>\n",
       "    </tr>\n",
       "    <tr>\n",
       "      <td>4</td>\n",
       "      <td>2020-02-25</td>\n",
       "      <td>1431.000000</td>\n",
       "      <td>1436.849976</td>\n",
       "      <td>1380.420044</td>\n",
       "      <td>1386.319946</td>\n",
       "      <td>1386.319946</td>\n",
       "      <td>2579000</td>\n",
       "    </tr>\n",
       "  </tbody>\n",
       "</table>\n",
       "</div>"
      ],
      "text/plain": [
       "         Date         Open         High          Low        Close  \\\n",
       "0  2020-02-19  1527.199951  1530.739990  1520.979980  1524.869995   \n",
       "1  2020-02-20  1519.010010  1527.069946  1504.260010  1516.989990   \n",
       "2  2020-02-21  1504.579956  1510.949951  1478.489990  1483.459961   \n",
       "3  2020-02-24  1423.050049  1436.380005  1406.790039  1419.859985   \n",
       "4  2020-02-25  1431.000000  1436.849976  1380.420044  1386.319946   \n",
       "\n",
       "     Adj Close   Volume  \n",
       "0  1524.869995  1137300  \n",
       "1  1516.989990  1298100  \n",
       "2  1483.459961  2126000  \n",
       "3  1419.859985  2478000  \n",
       "4  1386.319946  2579000  "
      ]
     },
     "execution_count": 57,
     "metadata": {},
     "output_type": "execute_result"
    }
   ],
   "source": [
    "#read the usdcad.csv file and convert it into a dataframe\n",
    "df = pd.read_csv(\"GOOGL.csv\", header = 0, sep = \",\")\n",
    "\n",
    "#first 5 entries of the df\n",
    "df.head()"
   ]
  },
  {
   "cell_type": "markdown",
   "metadata": {},
   "source": [
    "Check the descriptive stats and info on the data"
   ]
  },
  {
   "cell_type": "code",
   "execution_count": 58,
   "metadata": {},
   "outputs": [
    {
     "name": "stdout",
     "output_type": "stream",
     "text": [
      "Descriptive Statistics\n",
      "               Open         High          Low        Close    Adj Close  \\\n",
      "count   254.000000   254.000000   254.000000   254.000000   254.000000   \n",
      "mean   1536.570828  1557.449013  1517.383625  1538.144383  1538.144383   \n",
      "std     231.474739   231.612975   233.628111   232.203723   232.203723   \n",
      "min    1056.369995  1066.910034  1008.869995  1054.130005  1054.130005   \n",
      "25%    1402.985046  1424.250000  1386.997528  1407.352509  1407.352509   \n",
      "50%    1508.625000  1523.605041  1495.380005  1511.445007  1511.445007   \n",
      "75%    1729.015015  1754.382507  1716.315002  1734.460053  1734.460053   \n",
      "max    2107.790039  2145.139893  2096.850098  2118.620117  2118.620117   \n",
      "\n",
      "             Volume  \n",
      "count  2.540000e+02  \n",
      "mean   2.020885e+06  \n",
      "std    9.257857e+05  \n",
      "min    4.656000e+05  \n",
      "25%    1.420975e+06  \n",
      "50%    1.711650e+06  \n",
      "75%    2.467975e+06  \n",
      "max    5.417900e+06  \n"
     ]
    }
   ],
   "source": [
    "pd.set_option(\"display.max_columns\", None)\n",
    "pd.set_option(\"display.max_rows\", None)\n",
    "print(\"Descriptive Statistics\\n\", df.describe()) #descriptive stat on data"
   ]
  },
  {
   "cell_type": "code",
   "execution_count": 59,
   "metadata": {},
   "outputs": [
    {
     "name": "stdout",
     "output_type": "stream",
     "text": [
      "<class 'pandas.core.frame.DataFrame'>\n",
      "RangeIndex: 254 entries, 0 to 253\n",
      "Data columns (total 7 columns):\n",
      "Date         254 non-null object\n",
      "Open         254 non-null float64\n",
      "High         254 non-null float64\n",
      "Low          254 non-null float64\n",
      "Close        254 non-null float64\n",
      "Adj Close    254 non-null float64\n",
      "Volume       254 non-null int64\n",
      "dtypes: float64(5), int64(1), object(1)\n",
      "memory usage: 13.0+ KB\n",
      "\n",
      "Information on Data\n",
      " None\n"
     ]
    }
   ],
   "source": [
    "print(\"\\nInformation on Data\\n\", df.info()) #prints the information on data"
   ]
  },
  {
   "cell_type": "markdown",
   "metadata": {},
   "source": [
    "**Data Cleaning**"
   ]
  },
  {
   "cell_type": "code",
   "execution_count": 60,
   "metadata": {},
   "outputs": [
    {
     "name": "stdout",
     "output_type": "stream",
     "text": [
      "Total Columns Missing Values:  0\n"
     ]
    }
   ],
   "source": [
    "#check columns with missing values\n",
    "columns_missing_values = df.isna().sum() #sums columns with missing values\n",
    "#filter columns with at least one missing value\n",
    "columns_missing_values = columns_missing_values[columns_missing_values != 0]\n",
    "#print number of columns with missing values\n",
    "print(\"Total Columns Missing Values: \", len(columns_missing_values))"
   ]
  },
  {
   "cell_type": "markdown",
   "metadata": {},
   "source": [
    "There are no columns that has any missing values. Therefore we continue with the analysis"
   ]
  },
  {
   "cell_type": "markdown",
   "metadata": {},
   "source": [
    "**Correlation Matrix**\n",
    "\n",
    "Check Correlation within the variables to see which one has a positive impact on the closing price"
   ]
  },
  {
   "cell_type": "code",
   "execution_count": 61,
   "metadata": {},
   "outputs": [
    {
     "name": "stdout",
     "output_type": "stream",
     "text": [
      "Correlation Matrix\n"
     ]
    },
    {
     "data": {
      "text/html": [
       "<div>\n",
       "<style scoped>\n",
       "    .dataframe tbody tr th:only-of-type {\n",
       "        vertical-align: middle;\n",
       "    }\n",
       "\n",
       "    .dataframe tbody tr th {\n",
       "        vertical-align: top;\n",
       "    }\n",
       "\n",
       "    .dataframe thead th {\n",
       "        text-align: right;\n",
       "    }\n",
       "</style>\n",
       "<table border=\"1\" class=\"dataframe\">\n",
       "  <thead>\n",
       "    <tr style=\"text-align: right;\">\n",
       "      <th></th>\n",
       "      <th>Open</th>\n",
       "      <th>High</th>\n",
       "      <th>Low</th>\n",
       "      <th>Close</th>\n",
       "      <th>Adj Close</th>\n",
       "      <th>Volume</th>\n",
       "    </tr>\n",
       "  </thead>\n",
       "  <tbody>\n",
       "    <tr>\n",
       "      <td>Open</td>\n",
       "      <td>1.00</td>\n",
       "      <td>1.00</td>\n",
       "      <td>1.00</td>\n",
       "      <td>0.99</td>\n",
       "      <td>0.99</td>\n",
       "      <td>-0.43</td>\n",
       "    </tr>\n",
       "    <tr>\n",
       "      <td>High</td>\n",
       "      <td>1.00</td>\n",
       "      <td>1.00</td>\n",
       "      <td>1.00</td>\n",
       "      <td>1.00</td>\n",
       "      <td>1.00</td>\n",
       "      <td>-0.41</td>\n",
       "    </tr>\n",
       "    <tr>\n",
       "      <td>Low</td>\n",
       "      <td>1.00</td>\n",
       "      <td>1.00</td>\n",
       "      <td>1.00</td>\n",
       "      <td>1.00</td>\n",
       "      <td>1.00</td>\n",
       "      <td>-0.46</td>\n",
       "    </tr>\n",
       "    <tr>\n",
       "      <td>Close</td>\n",
       "      <td>0.99</td>\n",
       "      <td>1.00</td>\n",
       "      <td>1.00</td>\n",
       "      <td>1.00</td>\n",
       "      <td>1.00</td>\n",
       "      <td>-0.45</td>\n",
       "    </tr>\n",
       "    <tr>\n",
       "      <td>Adj Close</td>\n",
       "      <td>0.99</td>\n",
       "      <td>1.00</td>\n",
       "      <td>1.00</td>\n",
       "      <td>1.00</td>\n",
       "      <td>1.00</td>\n",
       "      <td>-0.45</td>\n",
       "    </tr>\n",
       "    <tr>\n",
       "      <td>Volume</td>\n",
       "      <td>-0.43</td>\n",
       "      <td>-0.41</td>\n",
       "      <td>-0.46</td>\n",
       "      <td>-0.45</td>\n",
       "      <td>-0.45</td>\n",
       "      <td>1.00</td>\n",
       "    </tr>\n",
       "  </tbody>\n",
       "</table>\n",
       "</div>"
      ],
      "text/plain": [
       "           Open  High   Low  Close  Adj Close  Volume\n",
       "Open       1.00  1.00  1.00   0.99       0.99   -0.43\n",
       "High       1.00  1.00  1.00   1.00       1.00   -0.41\n",
       "Low        1.00  1.00  1.00   1.00       1.00   -0.46\n",
       "Close      0.99  1.00  1.00   1.00       1.00   -0.45\n",
       "Adj Close  0.99  1.00  1.00   1.00       1.00   -0.45\n",
       "Volume    -0.43 -0.41 -0.46  -0.45      -0.45    1.00"
      ]
     },
     "execution_count": 61,
     "metadata": {},
     "output_type": "execute_result"
    }
   ],
   "source": [
    "#creates a correlation matrix\n",
    "print(\"Correlation Matrix\")\n",
    "round(df.corr(), 2)"
   ]
  },
  {
   "cell_type": "markdown",
   "metadata": {},
   "source": [
    "The correlation is high between closing, high, low, open and adj closing price. Meaning the high, low and opening price have\n",
    "an impact on the closing price. Therefore we can use any of the variables as explanatory variables to predict the closing price or all of them."
   ]
  },
  {
   "cell_type": "markdown",
   "metadata": {},
   "source": [
    "**Visualizing the Correlation**\n",
    "\n",
    "Heatmap"
   ]
  },
  {
   "cell_type": "code",
   "execution_count": 62,
   "metadata": {},
   "outputs": [],
   "source": [
    "#import seaborn and matplotlib.pyplot to be able to plot the heatmap\n",
    "import seaborn as sns\n",
    "import matplotlib.pyplot as plt"
   ]
  },
  {
   "cell_type": "code",
   "execution_count": 63,
   "metadata": {},
   "outputs": [
    {
     "data": {
      "image/png": "[encoded data removed]",
      "text/plain": [
       "<Figure size 432x288 with 2 Axes>"
      ]
     },
     "metadata": {
      "needs_background": "light"
     },
     "output_type": "display_data"
    }
   ],
   "source": [
    "correlation_df = df.corr() #assign a correlation_df to correlation data\n",
    "\n",
    "axis_corr = sns.heatmap(correlation_df, vmin = -1, vmax = 1, center = 0, cmap = sns.diverging_palette(50, 500, n = 500), square = True)\n",
    "plt.show()"
   ]
  },
  {
   "cell_type": "markdown",
   "metadata": {},
   "source": [
    "Scatter Graph"
   ]
  },
  {
   "cell_type": "code",
   "execution_count": 64,
   "metadata": {},
   "outputs": [
    {
     "data": {
      "image/png": "[encoded data removed]",
      "text/plain": [
       "<Figure size 432x288 with 1 Axes>"
      ]
     },
     "metadata": {
      "needs_background": "light"
     },
     "output_type": "display_data"
    }
   ],
   "source": [
    "#plots scatter graph between opening and closing prices\n",
    "df.plot(x = \"Open\", y = \"Close\", kind = \"scatter\"),\n",
    "plt.ylabel(\"Closing Price\")\n",
    "plt.xlabel(\"Opening Price\")\n",
    "plt.show()"
   ]
  },
  {
   "cell_type": "code",
   "execution_count": 66,
   "metadata": {},
   "outputs": [
    {
     "name": "stdout",
     "output_type": "stream",
     "text": [
      "         Date         Open         High         Low        Close    Adj Close\n",
      "0  2020-02-19  1527.199951  1530.739990  1520.97998  1524.869995  1524.869995\n",
      "1  2020-02-20  1519.010010  1527.069946  1504.26001  1516.989990  1516.989990\n",
      "2  2020-02-21  1504.579956  1510.949951  1478.48999  1483.459961  1483.459961\n"
     ]
    }
   ],
   "source": [
    "#Since there is no relationship between the Volumes and the Closing price (indicated by a negative correlation), we are removing the Date Column\n",
    "df.drop(columns = [\"Volume\"], inplace = True)\n",
    "\n",
    "print(df.head(3))"
   ]
  },
  {
   "cell_type": "markdown",
   "metadata": {},
   "source": [
    "**Linear Regression Table**\n",
    "\n",
    "Build a Linear Regression table using the High, Low, open and close"
   ]
  },
  {
   "cell_type": "code",
   "execution_count": 67,
   "metadata": {},
   "outputs": [
    {
     "name": "stdout",
     "output_type": "stream",
     "text": [
      "                            OLS Regression Results                            \n",
      "==============================================================================\n",
      "Dep. Variable:                  Close   R-squared:                       0.997\n",
      "Model:                            OLS   Adj. R-squared:                  0.997\n",
      "Method:                 Least Squares   F-statistic:                 3.214e+04\n",
      "Date:                Fri, 19 Feb 2021   Prob (F-statistic):          4.94e-323\n",
      "Time:                        21:39:12   Log-Likelihood:                -986.98\n",
      "No. Observations:                 254   AIC:                             1982.\n",
      "Df Residuals:                     250   BIC:                             1996.\n",
      "Df Model:                           3                                         \n",
      "Covariance Type:            nonrobust                                         \n",
      "==============================================================================\n",
      "                 coef    std err          t      P>|t|      [0.025      0.975]\n",
      "------------------------------------------------------------------------------\n",
      "Intercept     11.3424      5.505      2.060      0.040       0.500      22.185\n",
      "Open          -0.4936      0.054     -9.142      0.000      -0.600      -0.387\n",
      "High           0.7042      0.052     13.436      0.000       0.601       0.807\n",
      "Low            0.7833      0.049     15.959      0.000       0.687       0.880\n",
      "==============================================================================\n",
      "Omnibus:                       22.714   Durbin-Watson:                   2.663\n",
      "Prob(Omnibus):                  0.000   Jarque-Bera (JB):               92.514\n",
      "Skew:                          -0.002   Prob(JB):                     8.15e-21\n",
      "Kurtosis:                       5.957   Cond. No.                     1.99e+04\n",
      "==============================================================================\n",
      "\n",
      "Warnings:\n",
      "[1] Standard Errors assume that the covariance matrix of the errors is correctly specified.\n",
      "[2] The condition number is large, 1.99e+04. This might indicate that there are\n",
      "strong multicollinearity or other numerical problems.\n"
     ]
    }
   ],
   "source": [
    "#import the necessary modules\n",
    "import statsmodels.formula.api as smf\n",
    "\n",
    "\n",
    "model = smf.ols(\"Close ~ Open + High + Low\", data = df)\n",
    "results = model.fit() #fit the data properly\n",
    "print(results.summary()) #prints the summary of results"
   ]
  },
  {
   "cell_type": "markdown",
   "metadata": {},
   "source": [
    "The R-Squared of the explanatory variables and the variable we want to predict is high at 0.997, meaning most of the data points are close to the linear regression function line, therefore the model fts the data very well.\n",
    "\n",
    "The P-Value of the Intercept, Open, High and Low is below 0.050, which means that the three vaiables have a significant impact on the closing price of the GOOGL. Therefore we can reject the null hypothesis\n",
    "\n",
    "The coefficient indicates that the closing price will increas by -0.4936, 0.7042, 0.7833 when the Open, High and Low increases by 1 respectively. The intercept of the Closing price is 11.3424 when the Open, High and Low are 0."
   ]
  },
  {
   "cell_type": "markdown",
   "metadata": {},
   "source": [
    "**Creating the Function**\n",
    "\n",
    "Creating the function with the data from the OLS Regression Table"
   ]
  },
  {
   "cell_type": "code",
   "execution_count": 70,
   "metadata": {},
   "outputs": [
    {
     "data": {
      "text/html": [
       "<div>\n",
       "<style scoped>\n",
       "    .dataframe tbody tr th:only-of-type {\n",
       "        vertical-align: middle;\n",
       "    }\n",
       "\n",
       "    .dataframe tbody tr th {\n",
       "        vertical-align: top;\n",
       "    }\n",
       "\n",
       "    .dataframe thead th {\n",
       "        text-align: right;\n",
       "    }\n",
       "</style>\n",
       "<table border=\"1\" class=\"dataframe\">\n",
       "  <thead>\n",
       "    <tr style=\"text-align: right;\">\n",
       "      <th></th>\n",
       "      <th>Date</th>\n",
       "      <th>Open</th>\n",
       "      <th>High</th>\n",
       "      <th>Low</th>\n",
       "      <th>Close</th>\n",
       "      <th>Adj Close</th>\n",
       "    </tr>\n",
       "  </thead>\n",
       "  <tbody>\n",
       "    <tr>\n",
       "      <td>252</td>\n",
       "      <td>2021-02-18</td>\n",
       "      <td>2105.000000</td>\n",
       "      <td>2121.989990</td>\n",
       "      <td>2093.330078</td>\n",
       "      <td>2105.810059</td>\n",
       "      <td>2105.810059</td>\n",
       "    </tr>\n",
       "    <tr>\n",
       "      <td>253</td>\n",
       "      <td>2021-02-19</td>\n",
       "      <td>2107.790039</td>\n",
       "      <td>2118.580078</td>\n",
       "      <td>2096.850098</td>\n",
       "      <td>2098.263184</td>\n",
       "      <td>2098.263184</td>\n",
       "    </tr>\n",
       "  </tbody>\n",
       "</table>\n",
       "</div>"
      ],
      "text/plain": [
       "           Date         Open         High          Low        Close  \\\n",
       "252  2021-02-18  2105.000000  2121.989990  2093.330078  2105.810059   \n",
       "253  2021-02-19  2107.790039  2118.580078  2096.850098  2098.263184   \n",
       "\n",
       "       Adj Close  \n",
       "252  2105.810059  \n",
       "253  2098.263184  "
      ]
     },
     "execution_count": 70,
     "metadata": {},
     "output_type": "execute_result"
    }
   ],
   "source": [
    "df.tail(2)"
   ]
  },
  {
   "cell_type": "code",
   "execution_count": 72,
   "metadata": {},
   "outputs": [
    {
     "name": "stdout",
     "output_type": "stream",
     "text": [
      "Close:  2105.3040094406\n"
     ]
    }
   ],
   "source": [
    "#creating the prediction function using the open, high and low prices\n",
    "def predict_closing_price(Open, High, Low):\n",
    "    return Open * -0.4936 + High * 0.7042 + Low * 0.7833 + 11.3424\n",
    "\n",
    "#use the last open, high and low to predict the closing price\n",
    "print(\"Close: \",predict_closing_price(2107.790039, 2118.580078, 2096.850098))"
   ]
  },
  {
   "cell_type": "code",
   "execution_count": 73,
   "metadata": {},
   "outputs": [
    {
     "name": "stdout",
     "output_type": "stream",
     "text": [
      "Close:  -1029.0627632504\n"
     ]
    }
   ],
   "source": [
    "#Use Open price to predict the Close price\n",
    "def predict_close(Open):\n",
    "    return Open * -0.4936 + 11.3424\n",
    "\n",
    "#use the Open price to predict the closing price\n",
    "print(\"Close: \", predict_close(2107.790039))"
   ]
  },
  {
   "cell_type": "code",
   "execution_count": 78,
   "metadata": {},
   "outputs": [
    {
     "name": "stdout",
     "output_type": "stream",
     "text": [
      "Close:  1503.2464909276\n"
     ]
    }
   ],
   "source": [
    "#Use High price to predict the Close price\n",
    "def predict_close(High):\n",
    "    return High * 0.7042 + 11.3424\n",
    "\n",
    "#use the High price to predict the closing price\n",
    "print(\"Close: \", predict_close(2118.580078))"
   ]
  },
  {
   "cell_type": "markdown",
   "metadata": {},
   "source": [
    "**Creating the Linear Regression Model**"
   ]
  },
  {
   "cell_type": "code",
   "execution_count": 79,
   "metadata": {},
   "outputs": [
    {
     "data": {
      "image/png": "[encoded data removed]",
      "text/plain": [
       "<Figure size 432x288 with 1 Axes>"
      ]
     },
     "metadata": {
      "needs_background": "light"
     },
     "output_type": "display_data"
    }
   ],
   "source": [
    "#import the necessary library\n",
    "from scipy import stats\n",
    "\n",
    "#Create the model\n",
    "x = df[\"Open\"]\n",
    "y = df[\"Close\"]\n",
    "\n",
    "slope, intercept, r, p, std_err = stats.linregress(x, y)\n",
    "\n",
    "def myFunc(x):\n",
    "    return slope * x + intercept\n",
    "\n",
    "mymodel = list(map(myFunc, x))\n",
    "\n",
    "plt.scatter(x, y) #plots an ordinary scatter graph\n",
    "plt.plot(x, mymodel) #plots a linear regression model\n",
    "plt.ylim(1000, 2200)\n",
    "plt.xlim(1000, 2200)\n",
    "plt.show()"
   ]
  },
  {
   "cell_type": "code",
   "execution_count": null,
   "metadata": {},
   "outputs": [],
   "source": []
  }
 ],
 "metadata": {
  "kernelspec": {
   "display_name": "Python 3",
   "language": "python",
   "name": "python3"
  },
  "language_info": {
   "codemirror_mode": {
    "name": "ipython",
    "version": 3
   },
   "file_extension": ".py",
   "mimetype": "text/x-python",
   "name": "python",
   "nbconvert_exporter": "python",
   "pygments_lexer": "ipython3",
   "version": "3.7.4"
  }
 },
 "nbformat": 4,
 "nbformat_minor": 2
}
