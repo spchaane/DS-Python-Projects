<<<<<<< HEAD
{
  "nbformat": 4,
  "nbformat_minor": 0,
  "metadata": {
    "colab": {
      "name": "phonenumber_tracker.ipynb",
      "private_outputs": true,
      "provenance": [],
      "collapsed_sections": []
    },
    "kernelspec": {
      "name": "python3",
      "display_name": "Python 3"
    }
  },
  "cells": [
    {
      "cell_type": "code",
      "metadata": {
        "id": "xZs-vle-m_kX"
      },
      "source": [
        "pip install phonenumbers"
      ],
      "execution_count": null,
      "outputs": []
    },
    {
      "cell_type": "markdown",
      "metadata": {
        "id": "oBlhrPT9ooys"
      },
      "source": [
        "Tracking the phone number country and Service provider using python"
      ]
    },
    {
      "cell_type": "code",
      "metadata": {
        "id": "BWco413louue"
      },
      "source": [
        "#import necessary modules and files\r\n",
        "import phonenumbers\r\n",
        "#import geocoder for location\r\n",
        "from phonenumbers import geocoder\r\n",
        "#import carrier for ISP/Service provider\r\n",
        "from phonenumbers import  carrier\r\n"
      ],
      "execution_count": null,
      "outputs": []
    },
    {
      "cell_type": "code",
      "metadata": {
        "id": "pqMXSoU_ply8"
      },
      "source": [
        "\"\"\"\r\n",
        "The program ask the user to enter the phonenumber starting with their country \r\n",
        "code and it prints out the name of the country and the service provider\r\n",
        "\r\n",
        "Created by: Samuel Chaane\r\n",
        "\"\"\"\r\n",
        "#function to parse ch(country and historical data)\r\n",
        "def ch_fn(number, ro = \"RO\", ch = \"CH\", language = \"en\"): #ch is country and historical data\r\n",
        "  ch_number = phonenumbers.parse(number, ch)\r\n",
        "  service_provider = phonenumbers.parse(number, ro)\r\n",
        "\r\n",
        "  print(\"Country : \"+ str(geocoder.description_for_number(ch_number, language)))\r\n",
        "  print(\"Service Provider: \"+ str(carrier.name_for_number(service_provider, language)))\r\n",
        "    \r\n",
        "  return ch_number, service_provider \r\n",
        "\r\n",
        "\r\n",
        "def main():\r\n",
        "  #Call the functions\r\n",
        "  ch_fn(number = str(input(\"Phone Number(+27...): \"))) #imput phone numbers from the user starting with country code"
      ],
      "execution_count": null,
      "outputs": []
    },
    {
      "cell_type": "code",
      "metadata": {
        "id": "iehBmyVRtFj6"
      },
      "source": [
        "main()"
      ],
      "execution_count": null,
      "outputs": []
    },
    {
      "cell_type": "code",
      "metadata": {
        "id": "ESntc5cJt8SF"
      },
      "source": [
        ""
      ],
      "execution_count": null,
      "outputs": []
    }
  ]
}
||||||| 930b217
=======
{
  "nbformat": 4,
  "nbformat_minor": 0,
  "metadata": {
    "colab": {
      "name": "phonenumber_tracker.ipynb",
      "private_outputs": true,
      "provenance": [],
      "authorship_tag": "ABX9TyMMZZkCbO+6jlAGgqIbGZ1F",
      "include_colab_link": true
    },
    "kernelspec": {
      "name": "python3",
      "display_name": "Python 3"
    }
  },
  "cells": [
    {
      "cell_type": "markdown",
      "metadata": {
        "id": "view-in-github",
        "colab_type": "text"
      },
      "source": [
        "<a href=\"https://colab.research.google.com/github/spchaane/python-projects/blob/main/phonenumber_tracker.ipynb\" target=\"_parent\"><img src=\"https://colab.research.google.com/assets/colab-badge.svg\" alt=\"Open In Colab\"/></a>"
      ]
    },
    {
      "cell_type": "code",
      "metadata": {
        "id": "xZs-vle-m_kX"
      },
      "source": [
        "pip install phonenumbers"
      ],
      "execution_count": null,
      "outputs": []
    },
    {
      "cell_type": "markdown",
      "metadata": {
        "id": "oBlhrPT9ooys"
      },
      "source": [
        "Tracking the phone number country and Service provider using python"
      ]
    },
    {
      "cell_type": "code",
      "metadata": {
        "id": "BWco413louue"
      },
      "source": [
        "#import necessary modules and files\r\n",
        "import phonenumbers\r\n",
        "#import geocoder for location\r\n",
        "from phonenumbers import geocoder\r\n",
        "#import carrier for ISP/Service provider\r\n",
        "from phonenumbers import  carrier\r\n"
      ],
      "execution_count": null,
      "outputs": []
    },
    {
      "cell_type": "code",
      "metadata": {
        "id": "pqMXSoU_ply8"
      },
      "source": [
        "\"\"\"\r\n",
        "The program ask the user to enter the phonenumber starting with their country \r\n",
        "code and it prints out the name of the country and the service provider\r\n",
        "\r\n",
        "Created by: Samuel Chaane\r\n",
        "\"\"\"\r\n",
        "#function to parse ch(country and historical data)\r\n",
        "def ch_fn(number, ro = \"RO\", ch = \"CH\", language = \"en\"): #ch is country and historical data\r\n",
        "  ch_number = phonenumbers.parse(number, ch)\r\n",
        "  service_provider = phonenumbers.parse(number, ro)\r\n",
        "\r\n",
        "  print(\"Country : \"+ str(geocoder.description_for_number(ch_number, language)))\r\n",
        "  print(\"Service Provider: \"+ str(carrier.name_for_number(service_provider, language)))\r\n",
        "    \r\n",
        "  return ch_number, service_provider \r\n",
        "\r\n",
        "\r\n",
        "def main():\r\n",
        "  #Call the functions\r\n",
        "  ch_fn(number = str(input(\"Phone Number(+27...): \"))) #imput phone numbers from the user starting with country code"
      ],
      "execution_count": null,
      "outputs": []
    },
    {
      "cell_type": "code",
      "metadata": {
        "id": "iehBmyVRtFj6"
      },
      "source": [
        "main()"
      ],
      "execution_count": null,
      "outputs": []
    },
    {
      "cell_type": "code",
      "metadata": {
        "id": "ESntc5cJt8SF"
      },
      "source": [
        ""
      ],
      "execution_count": null,
      "outputs": []
    }
  ]
}
>>>>>>> 388e0d741fcb7515c993fc14c3c078f5cfac6b2e
