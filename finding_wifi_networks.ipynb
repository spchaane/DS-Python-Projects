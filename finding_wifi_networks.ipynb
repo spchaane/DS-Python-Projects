{
 "cells": [
  {
   "cell_type": "code",
   "execution_count": 51,
   "metadata": {},
   "outputs": [],
   "source": [
    "#import the necessary modules\n",
    "import subprocess"
   ]
  },
  {
   "cell_type": "code",
   "execution_count": 52,
   "metadata": {},
   "outputs": [],
   "source": [
    "#Assign variables\n",
    "devices = subprocess.check_output([\"netsh\", \"wlan\" , \"show\", \"network\"])\n",
    "\n",
    "#decoding the bytes into readable format\n",
    "devices =  devices.decode(\"ascii\")\n",
    "#return actual string format\n",
    "devices = devices.replace(\"\\r\", \"\")"
   ]
  },
  {
   "cell_type": "code",
   "execution_count": 53,
   "metadata": {},
   "outputs": [],
   "source": [
    "#split the string to get clear\n",
    "ssid = devices.split(\"\\n\")\n",
    "ssid = ssid[4:]\n",
    "\n",
    "ssids = [] #empty list of ssid = service set identifier"
   ]
  },
  {
   "cell_type": "code",
   "execution_count": 54,
   "metadata": {},
   "outputs": [
    {
     "name": "stdout",
     "output_type": "stream",
     "text": [
      "['SSID 1 : _']\n"
     ]
    }
   ],
   "source": [
    "#use ssid to get the wifi names\n",
    "x = 0\n",
    "while x < len(ssid):\n",
    "    if x / 5 == 0:\n",
    "        ssids.append(ssid[x])\n",
    "    \n",
    "    x += 1 #increment x by 1\n",
    "    \n",
    "print(ssids)\n",
    "    "
   ]
  },
  {
   "cell_type": "code",
   "execution_count": null,
   "metadata": {},
   "outputs": [],
   "source": []
  },
  {
   "cell_type": "code",
   "execution_count": null,
   "metadata": {},
   "outputs": [],
   "source": []
  }
 ],
 "metadata": {
  "kernelspec": {
   "display_name": "Python 3",
   "language": "python",
   "name": "python3"
  },
  "language_info": {
   "codemirror_mode": {
    "name": "ipython",
    "version": 3
   },
   "file_extension": ".py",
   "mimetype": "text/x-python",
   "name": "python",
   "nbconvert_exporter": "python",
   "pygments_lexer": "ipython3",
   "version": "3.7.4"
  }
 },
 "nbformat": 4,
 "nbformat_minor": 2
}
