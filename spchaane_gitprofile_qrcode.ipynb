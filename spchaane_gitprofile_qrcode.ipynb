{
  "nbformat": 4,
  "nbformat_minor": 0,
  "metadata": {
    "colab": {
      "name": "spchaane_gitprofile_qrcode.ipynb",
      "provenance": [],
      "authorship_tag": "ABX9TyOoimSfaMlYuNn7sYuKb18I",
      "include_colab_link": true
    },
    "kernelspec": {
      "name": "python3",
      "display_name": "Python 3"
    }
  },
  "cells": [
    {
      "cell_type": "markdown",
      "metadata": {
        "id": "view-in-github",
        "colab_type": "text"
      },
      "source": [
        "<a href=\"https://colab.research.google.com/github/spchaane/python-projects/blob/main/spchaane_gitprofile_qrcode.ipynb\" target=\"_parent\"><img src=\"https://colab.research.google.com/assets/colab-badge.svg\" alt=\"Open In Colab\"/></a>"
      ]
    },
    {
      "cell_type": "code",
      "metadata": {
        "id": "EnPCBC-94vdd",
        "colab": {
          "base_uri": "https://localhost:8080/"
        },
        "outputId": "994413b1-644a-4c47-c76d-c541a2283682"
      },
      "source": [
        "pip install pyqrcode"
      ],
      "execution_count": null,
      "outputs": [
        {
          "output_type": "stream",
          "text": [
            "Requirement already satisfied: pyqrcode in /usr/local/lib/python3.6/dist-packages (1.2.1)\n"
          ],
          "name": "stdout"
        }
      ]
    },
    {
      "cell_type": "code",
      "metadata": {
        "colab": {
          "base_uri": "https://localhost:8080/"
        },
        "id": "HIfqEjAX_rKS",
        "outputId": "29b63787-faba-4343-e3ae-1e89368d2377"
      },
      "source": [
        "pip install pypng"
      ],
      "execution_count": null,
      "outputs": [
        {
          "output_type": "stream",
          "text": [
            "Requirement already satisfied: pypng in /usr/local/lib/python3.6/dist-packages (0.0.20)\n"
          ],
          "name": "stdout"
        }
      ]
    },
    {
      "cell_type": "code",
      "metadata": {
        "id": "MLy58V0oAGzN"
      },
      "source": [
        "\"\"\"\r\n",
        "The QR Code for spchaane github profile\r\n",
        "\r\n",
        "\"\"\"\r\n",
        "#import QRCode from pyprcode\r\n",
        "import pyqrcode\r\n",
        "import png #portable Graphics Format\r\n",
        "from pyqrcode import QRCode"
      ],
      "execution_count": null,
      "outputs": []
    },
    {
      "cell_type": "code",
      "metadata": {
        "id": "Ed_91nmFAcz9"
      },
      "source": [
        "#string representing the QR Code\r\n",
        "github_site = \"https://github.com/spchaane/\"\r\n",
        "twitter_site = \"https://twitter.com/C_H_A_A_N_E\"\r\n",
        "linkedin_site = \"https://www.linkedin.com/in/samuel-prince-chaane-649724a5/\"\r\n",
        "\r\n",
        "#generate QRCode\r\n",
        "github_url_qr = pyqrcode.create(github_site)\r\n",
        "twitter_url_qr = pyqrcode.create(twitter_site)\r\n",
        "linkedin_site_qr = pyqrcode.create(linkedin_site)\r\n"
      ],
      "execution_count": null,
      "outputs": []
    },
    {
      "cell_type": "code",
      "metadata": {
        "id": "cBqNnhyTBBaB"
      },
      "source": [
        "#create and save svg file naming \"spchaane_github_profile_qr.svg\"\r\n",
        "github_url_qr.svg(\"spchaane_github_profile_qr.svg\", scale = 8)\r\n",
        "#create and save the png file naming \"spchaane_github_profile_qr.png\"\r\n",
        "github_url_qr.png(\"spchaane_github_profile_qr.png\", scale = 6)\r\n",
        "\r\n",
        "#create and save svg file naming \"sp_twitter_profile_qr.png\"\r\n",
        "twitter_url_qr.png(\"sp_twitter_profile_qr.png\", scale = 6)\r\n",
        "#create and save svg file naming \"spchaane_linkedin_profile_qr.png\"\r\n",
        "linkedin_site_qr.png(\"spchaane_linkedin_profile_qr.png\", scale = 6)"
      ],
      "execution_count": null,
      "outputs": []
    }
  ]
}