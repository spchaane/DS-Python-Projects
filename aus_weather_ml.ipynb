{
  "nbformat": 4,
  "nbformat_minor": 0,
  "metadata": {
    "kernelspec": {
      "display_name": "Python 3",
      "language": "python",
      "name": "python3"
    },
    "language_info": {
      "codemirror_mode": {
        "name": "ipython",
        "version": 3
      },
      "file_extension": ".py",
      "mimetype": "text/x-python",
      "name": "python",
      "nbconvert_exporter": "python",
      "pygments_lexer": "ipython3",
      "version": "3.7.4"
    },
    "colab": {
      "name": "aus_weather_ml.ipynb",
      "provenance": [],
      "include_colab_link": true
    }
  },
  "cells": [
    {
      "cell_type": "markdown",
      "metadata": {
        "id": "view-in-github",
        "colab_type": "text"
      },
      "source": [
        "<a href=\"https://colab.research.google.com/github/spchaane/DS-Python-Projects/blob/main/aus_weather_ml.ipynb\" target=\"_parent\"><img src=\"https://colab.research.google.com/assets/colab-badge.svg\" alt=\"Open In Colab\"/></a>"
      ]
    },
    {
      "cell_type": "code",
      "metadata": {
        "id": "jCTaB82aoCVG"
      },
      "source": [
        "pip install -q sklearn"
      ],
      "execution_count": 93,
      "outputs": []
    },
    {
      "cell_type": "code",
      "metadata": {
        "id": "0v-otVi1s7td"
      },
      "source": [
        "#Install PyDrive\r\n",
        "!pip install -U -q PyDrive"
      ],
      "execution_count": 94,
      "outputs": []
    },
    {
      "cell_type": "markdown",
      "metadata": {
        "id": "YjlB-UYZtWSM"
      },
      "source": [
        "**Predict whether there will be a rain or not using the Decision Tree Model**"
      ]
    },
    {
      "cell_type": "code",
      "metadata": {
        "id": "tg23Vd9ksu-L"
      },
      "source": [
        "#import pandas library\r\n",
        "import pandas as pd\r\n",
        "\r\n",
        "#import necessary modules for the PyDrive\r\n",
        "from pydrive.auth import GoogleAuth\r\n",
        "from pydrive.drive import GoogleDrive\r\n",
        "from google.colab import auth\r\n",
        "from oauth2client.client import GoogleCredentials\r\n"
      ],
      "execution_count": 95,
      "outputs": []
    },
    {
      "cell_type": "code",
      "metadata": {
        "id": "AlaU7qmIzkw6"
      },
      "source": [
        "#installing additional librabries to be used when needed\r\n",
        "from __future__ import absolute_import, division, print_function, unicode_literals\r\n",
        "from IPython.display import clear_output\r\n",
        "from six.moves import urllib"
      ],
      "execution_count": 96,
      "outputs": []
    },
    {
      "cell_type": "code",
      "metadata": {
        "id": "13v5pi8CoCVz"
      },
      "source": [
        "#authenticate and create a PyDrive client\r\n",
        "auth.authenticate_user()\r\n",
        "gauth = GoogleAuth()\r\n",
        "gauth.credentials = GoogleCredentials.get_application_default()\r\n",
        "drive = GoogleDrive(gauth)"
      ],
      "execution_count": 97,
      "outputs": []
    },
    {
      "cell_type": "code",
      "metadata": {
        "id": "XblQDUfYuREf"
      },
      "source": [
        "#file path in the drive = https://drive.google.com/file/d/16ukcQ8vLowzzF8RX5uu0JhxKPs3iR4gS/view?usp=sharing\r\n",
        "#Loads files from google drive storage\r\n",
        "fileDownloaded = drive.CreateFile({\"id\":\"16ukcQ8vLowzzF8RX5uu0JhxKPs3iR4gS\"})\r\n",
        "\r\n",
        "#Loading the files\r\n",
        "fileDownloaded.GetContentFile(\"weatherAUS.csv\")"
      ],
      "execution_count": 98,
      "outputs": []
    },
    {
      "cell_type": "code",
      "metadata": {
        "id": "7THszMcQxM66"
      },
      "source": [
        "#import Chardet module\r\n",
        "import chardet\r\n",
        "\r\n",
        "#open csv file\r\n",
        "with open(\"weatherAUS.csv\", mode=\"rb\") as ifile:\r\n",
        "    # read the byte count as it is\r\n",
        "    raw_bytes = ifile.read()\r\n",
        "    encoding_name = chardet.detect(raw_bytes)[\"encoding\"]"
      ],
      "execution_count": 99,
      "outputs": []
    },
    {
      "cell_type": "code",
      "metadata": {
        "colab": {
          "base_uri": "https://localhost:8080/",
          "height": 309
        },
        "id": "SChLNuAHv7z8",
        "outputId": "db5931a1-2f08-4e57-aece-7b234dc8237b"
      },
      "source": [
        "#Using proper encoding to read the csv files\r\n",
        "df = pd.read_csv(\"weatherAUS.csv\", encoding='utf8', quotechar='\"', delimiter=',') #training data\r\n",
        "\r\n",
        "#see first 5 data row\r\n",
        "df.head()"
      ],
      "execution_count": 100,
      "outputs": [
        {
          "output_type": "execute_result",
          "data": {
            "text/html": [
              "<div>\n",
              "<style scoped>\n",
              "    .dataframe tbody tr th:only-of-type {\n",
              "        vertical-align: middle;\n",
              "    }\n",
              "\n",
              "    .dataframe tbody tr th {\n",
              "        vertical-align: top;\n",
              "    }\n",
              "\n",
              "    .dataframe thead th {\n",
              "        text-align: right;\n",
              "    }\n",
              "</style>\n",
              "<table border=\"1\" class=\"dataframe\">\n",
              "  <thead>\n",
              "    <tr style=\"text-align: right;\">\n",
              "      <th></th>\n",
              "      <th>Date</th>\n",
              "      <th>Location</th>\n",
              "      <th>MinTemp</th>\n",
              "      <th>MaxTemp</th>\n",
              "      <th>Rainfall</th>\n",
              "      <th>Evaporation</th>\n",
              "      <th>Sunshine</th>\n",
              "      <th>WindGustDir</th>\n",
              "      <th>WindGustSpeed</th>\n",
              "      <th>WindDir9am</th>\n",
              "      <th>WindDir3pm</th>\n",
              "      <th>WindSpeed9am</th>\n",
              "      <th>WindSpeed3pm</th>\n",
              "      <th>Humidity9am</th>\n",
              "      <th>Humidity3pm</th>\n",
              "      <th>Pressure9am</th>\n",
              "      <th>Pressure3pm</th>\n",
              "      <th>Cloud9am</th>\n",
              "      <th>Cloud3pm</th>\n",
              "      <th>Temp9am</th>\n",
              "      <th>Temp3pm</th>\n",
              "      <th>RainToday</th>\n",
              "      <th>RainTomorrow</th>\n",
              "    </tr>\n",
              "  </thead>\n",
              "  <tbody>\n",
              "    <tr>\n",
              "      <th>0</th>\n",
              "      <td>2008-12-01</td>\n",
              "      <td>Albury</td>\n",
              "      <td>13.4</td>\n",
              "      <td>22.9</td>\n",
              "      <td>0.6</td>\n",
              "      <td>NaN</td>\n",
              "      <td>NaN</td>\n",
              "      <td>W</td>\n",
              "      <td>44.0</td>\n",
              "      <td>W</td>\n",
              "      <td>WNW</td>\n",
              "      <td>20.0</td>\n",
              "      <td>24.0</td>\n",
              "      <td>71.0</td>\n",
              "      <td>22.0</td>\n",
              "      <td>1007.7</td>\n",
              "      <td>1007.1</td>\n",
              "      <td>8.0</td>\n",
              "      <td>NaN</td>\n",
              "      <td>16.9</td>\n",
              "      <td>21.8</td>\n",
              "      <td>No</td>\n",
              "      <td>No</td>\n",
              "    </tr>\n",
              "    <tr>\n",
              "      <th>1</th>\n",
              "      <td>2008-12-02</td>\n",
              "      <td>Albury</td>\n",
              "      <td>7.4</td>\n",
              "      <td>25.1</td>\n",
              "      <td>0.0</td>\n",
              "      <td>NaN</td>\n",
              "      <td>NaN</td>\n",
              "      <td>WNW</td>\n",
              "      <td>44.0</td>\n",
              "      <td>NNW</td>\n",
              "      <td>WSW</td>\n",
              "      <td>4.0</td>\n",
              "      <td>22.0</td>\n",
              "      <td>44.0</td>\n",
              "      <td>25.0</td>\n",
              "      <td>1010.6</td>\n",
              "      <td>1007.8</td>\n",
              "      <td>NaN</td>\n",
              "      <td>NaN</td>\n",
              "      <td>17.2</td>\n",
              "      <td>24.3</td>\n",
              "      <td>No</td>\n",
              "      <td>No</td>\n",
              "    </tr>\n",
              "    <tr>\n",
              "      <th>2</th>\n",
              "      <td>2008-12-03</td>\n",
              "      <td>Albury</td>\n",
              "      <td>12.9</td>\n",
              "      <td>25.7</td>\n",
              "      <td>0.0</td>\n",
              "      <td>NaN</td>\n",
              "      <td>NaN</td>\n",
              "      <td>WSW</td>\n",
              "      <td>46.0</td>\n",
              "      <td>W</td>\n",
              "      <td>WSW</td>\n",
              "      <td>19.0</td>\n",
              "      <td>26.0</td>\n",
              "      <td>38.0</td>\n",
              "      <td>30.0</td>\n",
              "      <td>1007.6</td>\n",
              "      <td>1008.7</td>\n",
              "      <td>NaN</td>\n",
              "      <td>2.0</td>\n",
              "      <td>21.0</td>\n",
              "      <td>23.2</td>\n",
              "      <td>No</td>\n",
              "      <td>No</td>\n",
              "    </tr>\n",
              "    <tr>\n",
              "      <th>3</th>\n",
              "      <td>2008-12-04</td>\n",
              "      <td>Albury</td>\n",
              "      <td>9.2</td>\n",
              "      <td>28.0</td>\n",
              "      <td>0.0</td>\n",
              "      <td>NaN</td>\n",
              "      <td>NaN</td>\n",
              "      <td>NE</td>\n",
              "      <td>24.0</td>\n",
              "      <td>SE</td>\n",
              "      <td>E</td>\n",
              "      <td>11.0</td>\n",
              "      <td>9.0</td>\n",
              "      <td>45.0</td>\n",
              "      <td>16.0</td>\n",
              "      <td>1017.6</td>\n",
              "      <td>1012.8</td>\n",
              "      <td>NaN</td>\n",
              "      <td>NaN</td>\n",
              "      <td>18.1</td>\n",
              "      <td>26.5</td>\n",
              "      <td>No</td>\n",
              "      <td>No</td>\n",
              "    </tr>\n",
              "    <tr>\n",
              "      <th>4</th>\n",
              "      <td>2008-12-05</td>\n",
              "      <td>Albury</td>\n",
              "      <td>17.5</td>\n",
              "      <td>32.3</td>\n",
              "      <td>1.0</td>\n",
              "      <td>NaN</td>\n",
              "      <td>NaN</td>\n",
              "      <td>W</td>\n",
              "      <td>41.0</td>\n",
              "      <td>ENE</td>\n",
              "      <td>NW</td>\n",
              "      <td>7.0</td>\n",
              "      <td>20.0</td>\n",
              "      <td>82.0</td>\n",
              "      <td>33.0</td>\n",
              "      <td>1010.8</td>\n",
              "      <td>1006.0</td>\n",
              "      <td>7.0</td>\n",
              "      <td>8.0</td>\n",
              "      <td>17.8</td>\n",
              "      <td>29.7</td>\n",
              "      <td>No</td>\n",
              "      <td>No</td>\n",
              "    </tr>\n",
              "  </tbody>\n",
              "</table>\n",
              "</div>"
            ],
            "text/plain": [
              "         Date Location  MinTemp  ...  Temp3pm  RainToday  RainTomorrow\n",
              "0  2008-12-01   Albury     13.4  ...     21.8         No            No\n",
              "1  2008-12-02   Albury      7.4  ...     24.3         No            No\n",
              "2  2008-12-03   Albury     12.9  ...     23.2         No            No\n",
              "3  2008-12-04   Albury      9.2  ...     26.5         No            No\n",
              "4  2008-12-05   Albury     17.5  ...     29.7         No            No\n",
              "\n",
              "[5 rows x 23 columns]"
            ]
          },
          "metadata": {
            "tags": []
          },
          "execution_count": 100
        }
      ]
    },
    {
      "cell_type": "code",
      "metadata": {
        "id": "JY3k4TtFoCV8",
        "colab": {
          "base_uri": "https://localhost:8080/"
        },
        "outputId": "390a1388-d32f-4e54-f91a-2d487f2bcdca"
      },
      "source": [
        "#create a correlation matrix\n",
        "import numpy as np\n",
        "import matplotlib.pyplot as plt\n",
        "\n",
        "print(round(df.corr(), 2))"
      ],
      "execution_count": 101,
      "outputs": [
        {
          "output_type": "stream",
          "text": [
            "               MinTemp  MaxTemp  Rainfall  ...  Cloud3pm  Temp9am  Temp3pm\n",
            "MinTemp           1.00     0.74      0.10  ...      0.02     0.90     0.71\n",
            "MaxTemp           0.74     1.00     -0.07  ...     -0.28     0.89     0.98\n",
            "Rainfall          0.10    -0.07      1.00  ...      0.17     0.01    -0.08\n",
            "Evaporation       0.47     0.59     -0.06  ...     -0.18     0.55     0.57\n",
            "Sunshine          0.07     0.47     -0.23  ...     -0.70     0.29     0.49\n",
            "WindGustSpeed     0.18     0.07      0.13  ...      0.11     0.15     0.03\n",
            "WindSpeed9am      0.18     0.01      0.09  ...      0.05     0.13     0.00\n",
            "WindSpeed3pm      0.18     0.05      0.06  ...      0.03     0.16     0.03\n",
            "Humidity9am      -0.23    -0.50      0.22  ...      0.36    -0.47    -0.50\n",
            "Humidity3pm       0.01    -0.51      0.26  ...      0.52    -0.22    -0.56\n",
            "Pressure9am      -0.45    -0.33     -0.17  ...     -0.15    -0.42    -0.29\n",
            "Pressure3pm      -0.46    -0.43     -0.13  ...     -0.08    -0.47    -0.39\n",
            "Cloud9am          0.08    -0.29      0.20  ...      0.60    -0.14    -0.30\n",
            "Cloud3pm          0.02    -0.28      0.17  ...      1.00    -0.13    -0.32\n",
            "Temp9am           0.90     0.89      0.01  ...     -0.13     1.00     0.86\n",
            "Temp3pm           0.71     0.98     -0.08  ...     -0.32     0.86     1.00\n",
            "\n",
            "[16 rows x 16 columns]\n"
          ],
          "name": "stdout"
        }
      ]
    },
    {
      "cell_type": "markdown",
      "metadata": {
        "id": "zqVegPzvoCWA"
      },
      "source": [
        "Since there is no much relationship between the amount of Rainfall, Temp and Humidity, lets check the relationship between other variables. First lets extract the required columns"
      ]
    },
    {
      "cell_type": "code",
      "metadata": {
        "id": "FBGVjWPxoCWE",
        "colab": {
          "base_uri": "https://localhost:8080/"
        },
        "outputId": "ead636b0-5dfc-4563-cb1c-ddff19b11b77"
      },
      "source": [
        "#read only specific columns \n",
        "df = pd.read_csv(\"weatherAUS.csv\", usecols = [\"MinTemp\", \"MaxTemp\", \"Humidity9am\", \"Humidity3pm\", \"Rainfall\", \"RainToday\", \"Pressure3pm\", \"Cloud3pm\"])\n",
        "\n",
        "print(df.head())"
      ],
      "execution_count": 102,
      "outputs": [
        {
          "output_type": "stream",
          "text": [
            "   MinTemp  MaxTemp  Rainfall  ...  Pressure3pm  Cloud3pm  RainToday\n",
            "0     13.4     22.9       0.6  ...       1007.1       NaN         No\n",
            "1      7.4     25.1       0.0  ...       1007.8       NaN         No\n",
            "2     12.9     25.7       0.0  ...       1008.7       2.0         No\n",
            "3      9.2     28.0       0.0  ...       1012.8       NaN         No\n",
            "4     17.5     32.3       1.0  ...       1006.0       8.0         No\n",
            "\n",
            "[5 rows x 8 columns]\n"
          ],
          "name": "stdout"
        }
      ]
    },
    {
      "cell_type": "code",
      "metadata": {
        "id": "ZywoLZe4oCWI",
        "colab": {
          "base_uri": "https://localhost:8080/",
          "height": 286
        },
        "outputId": "c60e1f75-a281-4708-cc5c-b68e1513dec8"
      },
      "source": [
        "#visualize with barplot\n",
        "import seaborn as sns\n",
        "\n",
        "#visualize MaxTem and RainToday\n",
        "sns.set(style = \"whitegrid\")\n",
        "sns.barplot(x = df['RainToday'], y = df['MaxTemp'], data = df )\n",
        "plt.show()"
      ],
      "execution_count": 103,
      "outputs": [
        {
          "output_type": "display_data",
          "data": {
            "image/png": "[encoded data removed]",
            "text/plain": [
              "<Figure size 432x288 with 1 Axes>"
            ]
          },
          "metadata": {
            "tags": []
          }
        }
      ]
    },
    {
      "cell_type": "code",
      "metadata": {
        "id": "P7Z17LtkoCWM",
        "colab": {
          "base_uri": "https://localhost:8080/",
          "height": 285
        },
        "outputId": "fe50d39d-3aea-43bf-8c80-0782af9c2a6b"
      },
      "source": [
        "#visualize RainToday with Humidity at 3pm\n",
        "sns.barplot(x = df['RainToday'], y = df['Humidity3pm'])\n",
        "plt.show()"
      ],
      "execution_count": 104,
      "outputs": [
        {
          "output_type": "display_data",
          "data": {
            "image/png": "[encoded data removed]",
            "text/plain": [
              "<Figure size 432x288 with 1 Axes>"
            ]
          },
          "metadata": {
            "tags": []
          }
        }
      ]
    },
    {
      "cell_type": "code",
      "metadata": {
        "id": "qhFZa2qhoCWO",
        "colab": {
          "base_uri": "https://localhost:8080/",
          "height": 283
        },
        "outputId": "c28b7b54-d7a7-4ba7-d2c7-410db6b06c3a"
      },
      "source": [
        "#check the missing values\n",
        "na_columns = df.isna().sum()\n",
        "#filter columns with at least 1 missing values\n",
        "na_columns = na_columns[na_columns != 0]\n",
        "#print number of na_columns\n",
        "print(\"Columns Missing Values: \", len(na_columns))\n",
        "\n",
        "#Create a correlation with all the columns\n",
        "c = list(na_columns.index)\n",
        "c.append(\"RainToday\")\n",
        "df[c].corr()"
      ],
      "execution_count": 105,
      "outputs": [
        {
          "output_type": "stream",
          "text": [
            "Columns Missing Values:  8\n"
          ],
          "name": "stdout"
        },
        {
          "output_type": "execute_result",
          "data": {
            "text/html": [
              "<div>\n",
              "<style scoped>\n",
              "    .dataframe tbody tr th:only-of-type {\n",
              "        vertical-align: middle;\n",
              "    }\n",
              "\n",
              "    .dataframe tbody tr th {\n",
              "        vertical-align: top;\n",
              "    }\n",
              "\n",
              "    .dataframe thead th {\n",
              "        text-align: right;\n",
              "    }\n",
              "</style>\n",
              "<table border=\"1\" class=\"dataframe\">\n",
              "  <thead>\n",
              "    <tr style=\"text-align: right;\">\n",
              "      <th></th>\n",
              "      <th>MinTemp</th>\n",
              "      <th>MaxTemp</th>\n",
              "      <th>Rainfall</th>\n",
              "      <th>Humidity9am</th>\n",
              "      <th>Humidity3pm</th>\n",
              "      <th>Pressure3pm</th>\n",
              "      <th>Cloud3pm</th>\n",
              "    </tr>\n",
              "  </thead>\n",
              "  <tbody>\n",
              "    <tr>\n",
              "      <th>MinTemp</th>\n",
              "      <td>1.000000</td>\n",
              "      <td>0.736555</td>\n",
              "      <td>0.103938</td>\n",
              "      <td>-0.232899</td>\n",
              "      <td>0.006089</td>\n",
              "      <td>-0.461292</td>\n",
              "      <td>0.021605</td>\n",
              "    </tr>\n",
              "    <tr>\n",
              "      <th>MaxTemp</th>\n",
              "      <td>0.736555</td>\n",
              "      <td>1.000000</td>\n",
              "      <td>-0.074992</td>\n",
              "      <td>-0.504110</td>\n",
              "      <td>-0.508855</td>\n",
              "      <td>-0.427167</td>\n",
              "      <td>-0.277921</td>\n",
              "    </tr>\n",
              "    <tr>\n",
              "      <th>Rainfall</th>\n",
              "      <td>0.103938</td>\n",
              "      <td>-0.074992</td>\n",
              "      <td>1.000000</td>\n",
              "      <td>0.224405</td>\n",
              "      <td>0.255755</td>\n",
              "      <td>-0.126534</td>\n",
              "      <td>0.172403</td>\n",
              "    </tr>\n",
              "    <tr>\n",
              "      <th>Humidity9am</th>\n",
              "      <td>-0.232899</td>\n",
              "      <td>-0.504110</td>\n",
              "      <td>0.224405</td>\n",
              "      <td>1.000000</td>\n",
              "      <td>0.666949</td>\n",
              "      <td>0.186858</td>\n",
              "      <td>0.357326</td>\n",
              "    </tr>\n",
              "    <tr>\n",
              "      <th>Humidity3pm</th>\n",
              "      <td>0.006089</td>\n",
              "      <td>-0.508855</td>\n",
              "      <td>0.255755</td>\n",
              "      <td>0.666949</td>\n",
              "      <td>1.000000</td>\n",
              "      <td>0.051997</td>\n",
              "      <td>0.523120</td>\n",
              "    </tr>\n",
              "    <tr>\n",
              "      <th>Pressure3pm</th>\n",
              "      <td>-0.461292</td>\n",
              "      <td>-0.427167</td>\n",
              "      <td>-0.126534</td>\n",
              "      <td>0.186858</td>\n",
              "      <td>0.051997</td>\n",
              "      <td>1.000000</td>\n",
              "      <td>-0.084778</td>\n",
              "    </tr>\n",
              "    <tr>\n",
              "      <th>Cloud3pm</th>\n",
              "      <td>0.021605</td>\n",
              "      <td>-0.277921</td>\n",
              "      <td>0.172403</td>\n",
              "      <td>0.357326</td>\n",
              "      <td>0.523120</td>\n",
              "      <td>-0.084778</td>\n",
              "      <td>1.000000</td>\n",
              "    </tr>\n",
              "  </tbody>\n",
              "</table>\n",
              "</div>"
            ],
            "text/plain": [
              "              MinTemp   MaxTemp  Rainfall  ...  Humidity3pm  Pressure3pm  Cloud3pm\n",
              "MinTemp      1.000000  0.736555  0.103938  ...     0.006089    -0.461292  0.021605\n",
              "MaxTemp      0.736555  1.000000 -0.074992  ...    -0.508855    -0.427167 -0.277921\n",
              "Rainfall     0.103938 -0.074992  1.000000  ...     0.255755    -0.126534  0.172403\n",
              "Humidity9am -0.232899 -0.504110  0.224405  ...     0.666949     0.186858  0.357326\n",
              "Humidity3pm  0.006089 -0.508855  0.255755  ...     1.000000     0.051997  0.523120\n",
              "Pressure3pm -0.461292 -0.427167 -0.126534  ...     0.051997     1.000000 -0.084778\n",
              "Cloud3pm     0.021605 -0.277921  0.172403  ...     0.523120    -0.084778  1.000000\n",
              "\n",
              "[7 rows x 7 columns]"
            ]
          },
          "metadata": {
            "tags": []
          },
          "execution_count": 105
        }
      ]
    },
    {
      "cell_type": "code",
      "metadata": {
        "id": "ZWSzg0HSoCWS",
        "colab": {
          "base_uri": "https://localhost:8080/"
        },
        "outputId": "7bb09aeb-ea92-4b50-fe0a-9f1d94e8b35a"
      },
      "source": [
        "#Convert RainToday yes = 1 and no = 0 so that we can use it at a later stage\n",
        "df[\"RainToday\"].replace({\"No\": 0, \"Yes\": 1}, inplace = True)\n",
        "\n",
        "print(df[\"RainToday\"])"
      ],
      "execution_count": 106,
      "outputs": [
        {
          "output_type": "stream",
          "text": [
            "0         0.0\n",
            "1         0.0\n",
            "2         0.0\n",
            "3         0.0\n",
            "4         0.0\n",
            "         ... \n",
            "145455    0.0\n",
            "145456    0.0\n",
            "145457    0.0\n",
            "145458    0.0\n",
            "145459    0.0\n",
            "Name: RainToday, Length: 145460, dtype: float64\n"
          ],
          "name": "stdout"
        }
      ]
    },
    {
      "cell_type": "markdown",
      "metadata": {
        "id": "nZh8_byIoCWV"
      },
      "source": [
        "Lets see the effects that temperature and humidity have on the rainfall"
      ]
    },
    {
      "cell_type": "markdown",
      "metadata": {
        "id": "ng-wcJLUoCWX"
      },
      "source": [
        "**Data Cleaning**\n",
        "\n",
        "Lets clean the data to only remain with the useful information"
      ]
    },
    {
      "cell_type": "code",
      "metadata": {
        "id": "fid8rjqSoCWZ",
        "colab": {
          "base_uri": "https://localhost:8080/"
        },
        "outputId": "488bd5c7-1820-49da-b66f-4f7b6da663e8"
      },
      "source": [
        "#check the missing values\n",
        "na_columns = df.isna().sum()\n",
        "#filter columns with at least 1 missing values\n",
        "na_columns = na_columns[na_columns != 0]\n",
        "#print number of na_columns\n",
        "print(\"Columns Missing Values: \", len(na_columns))"
      ],
      "execution_count": 107,
      "outputs": [
        {
          "output_type": "stream",
          "text": [
            "Columns Missing Values:  8\n"
          ],
          "name": "stdout"
        }
      ]
    },
    {
      "cell_type": "code",
      "metadata": {
        "id": "xFQJw8YhoCWd",
        "colab": {
          "base_uri": "https://localhost:8080/"
        },
        "outputId": "8c408dbe-7c06-490d-ac90-d2789cdb36fc"
      },
      "source": [
        "#Print those columns in descending order\n",
        "na_columns.sort_values(ascending = False)"
      ],
      "execution_count": 108,
      "outputs": [
        {
          "output_type": "execute_result",
          "data": {
            "text/plain": [
              "Cloud3pm       59358\n",
              "Pressure3pm    15028\n",
              "Humidity3pm     4507\n",
              "RainToday       3261\n",
              "Rainfall        3261\n",
              "Humidity9am     2654\n",
              "MinTemp         1485\n",
              "MaxTemp         1261\n",
              "dtype: int64"
            ]
          },
          "metadata": {
            "tags": []
          },
          "execution_count": 108
        }
      ]
    },
    {
      "cell_type": "code",
      "metadata": {
        "id": "gaRIDxBIoCWf",
        "colab": {
          "base_uri": "https://localhost:8080/"
        },
        "outputId": "83707d10-644f-4919-be8f-356a77f8024c"
      },
      "source": [
        "#check percentage of missing data\n",
        "print(\"Rainfall % of missing data: \", round((3261/len(df[\"Rainfall\"])) * 100 , 3))"
      ],
      "execution_count": 109,
      "outputs": [
        {
          "output_type": "stream",
          "text": [
            "Rainfall % of missing data:  2.242\n"
          ],
          "name": "stdout"
        }
      ]
    },
    {
      "cell_type": "code",
      "metadata": {
        "id": "Skfiwmi-oCWi"
      },
      "source": [
        "#fill the missing values with 0 since the missing percentage is too small\n",
        "df.fillna(0, inplace = True)"
      ],
      "execution_count": 110,
      "outputs": []
    },
    {
      "cell_type": "markdown",
      "metadata": {
        "id": "Wz2kFwLroCWk"
      },
      "source": [
        "**Multivariable regression**"
      ]
    },
    {
      "cell_type": "code",
      "metadata": {
        "scrolled": true,
        "id": "3H7MlrPIoCWl",
        "colab": {
          "base_uri": "https://localhost:8080/"
        },
        "outputId": "1dfb11f4-22b8-4586-e764-fbd11841b9ad"
      },
      "source": [
        "#create a multiple regression\n",
        "from sklearn import linear_model\n",
        "\n",
        "#create independent variable and dependent variable\n",
        "x = df[[\"MaxTemp\", \"Humidity3pm\"]]\n",
        "y = df[\"RainToday\"]\n",
        "\n",
        "\n",
        "#use the LinearRegression() method \n",
        "regr = linear_model.LinearRegression()\n",
        "regr.fit(x, y)\n",
        "\n",
        "print(\"Regression Coefficient: \", regr.coef_)"
      ],
      "execution_count": 111,
      "outputs": [
        {
          "output_type": "stream",
          "text": [
            "Regression Coefficient:  [-0.00478924  0.00564252]\n"
          ],
          "name": "stdout"
        }
      ]
    },
    {
      "cell_type": "markdown",
      "metadata": {
        "id": "Jz1kinGRoCWo"
      },
      "source": [
        "The Regression Coeeficient shows that when MaxTem, Humidity3pm increases by 1degrees, 1% respectively, chances of rain increases by -0.00478924, 0.00564252 respectively"
      ]
    },
    {
      "cell_type": "code",
      "metadata": {
        "id": "8BD09wguoCWq",
        "colab": {
          "base_uri": "https://localhost:8080/"
        },
        "outputId": "77967b03-012a-4817-af34-e22a7a79032b"
      },
      "source": [
        "#Predict rain when the maximum temp is 15 and humidity is 78\n",
        "predicted_rain = regr.predict([[16, 78]])\n",
        "\n",
        "print(predicted_rain)"
      ],
      "execution_count": 112,
      "outputs": [
        {
          "output_type": "stream",
          "text": [
            "[0.41110414]\n"
          ],
          "name": "stdout"
        }
      ]
    },
    {
      "cell_type": "code",
      "metadata": {
        "id": "lmn92g3KoCWt",
        "colab": {
          "base_uri": "https://localhost:8080/"
        },
        "outputId": "5359e615-a43e-4692-a169-000a150271cc"
      },
      "source": [
        "#create independent variable and dependent variable\n",
        "x = df[[\"MaxTemp\", \"Humidity3pm\"]]\n",
        "y = df[\"Pressure3pm\"]\n",
        "\n",
        "\n",
        "#use the LinearRegression() method \n",
        "regr = linear_model.LinearRegression()\n",
        "regr.fit(x, y)\n",
        "\n",
        "print(\"Regression Coefficient: \", regr.coef_)\n",
        "\n",
        "#predict pressure when MaxTemp is 26 and Humidity is 41\n",
        "predict_pressure = regr.predict([[26, 41]])\n",
        "\n",
        "print(predict_pressure)"
      ],
      "execution_count": 113,
      "outputs": [
        {
          "output_type": "stream",
          "text": [
            "Regression Coefficient:  [8.31782253 1.92857819]\n",
            "[917.90715022]\n"
          ],
          "name": "stdout"
        }
      ]
    },
    {
      "cell_type": "markdown",
      "metadata": {
        "id": "iAytuu4boCWv"
      },
      "source": [
        "**Decision Tree**\n",
        "\n",
        "Using Decision tree to decide whether it is going to rain or not, the probability will be based on the previous info"
      ]
    },
    {
      "cell_type": "code",
      "metadata": {
        "id": "YctvatNeoCWx"
      },
      "source": [
        "#create a dataframe\n",
        "#Using proper encoding to read the csv files\n",
        "df_2 = pd.read_csv(\"weatherAUS.csv\", encoding='utf8', quotechar='\"', delimiter=',') #training data"
      ],
      "execution_count": 114,
      "outputs": []
    },
    {
      "cell_type": "code",
      "metadata": {
        "id": "FP3bLDYQoCWz"
      },
      "source": [
        "#import necessary modules\n",
        "import pandas as pd\n",
        "from sklearn import tree\n",
        "from sklearn.tree import DecisionTreeClassifier\n",
        "\n",
        "import matplotlib.pyplot as plt\n",
        "import matplotlib.image as pltimg\n",
        "import pydotplus"
      ],
      "execution_count": 115,
      "outputs": []
    },
    {
      "cell_type": "code",
      "metadata": {
        "id": "w5jyc4F9oCW1",
        "colab": {
          "base_uri": "https://localhost:8080/",
          "height": 309
        },
        "outputId": "27ba6396-2d40-426d-f253-87e9824556f2"
      },
      "source": [
        "df_2.head()"
      ],
      "execution_count": 116,
      "outputs": [
        {
          "output_type": "execute_result",
          "data": {
            "text/html": [
              "<div>\n",
              "<style scoped>\n",
              "    .dataframe tbody tr th:only-of-type {\n",
              "        vertical-align: middle;\n",
              "    }\n",
              "\n",
              "    .dataframe tbody tr th {\n",
              "        vertical-align: top;\n",
              "    }\n",
              "\n",
              "    .dataframe thead th {\n",
              "        text-align: right;\n",
              "    }\n",
              "</style>\n",
              "<table border=\"1\" class=\"dataframe\">\n",
              "  <thead>\n",
              "    <tr style=\"text-align: right;\">\n",
              "      <th></th>\n",
              "      <th>Date</th>\n",
              "      <th>Location</th>\n",
              "      <th>MinTemp</th>\n",
              "      <th>MaxTemp</th>\n",
              "      <th>Rainfall</th>\n",
              "      <th>Evaporation</th>\n",
              "      <th>Sunshine</th>\n",
              "      <th>WindGustDir</th>\n",
              "      <th>WindGustSpeed</th>\n",
              "      <th>WindDir9am</th>\n",
              "      <th>WindDir3pm</th>\n",
              "      <th>WindSpeed9am</th>\n",
              "      <th>WindSpeed3pm</th>\n",
              "      <th>Humidity9am</th>\n",
              "      <th>Humidity3pm</th>\n",
              "      <th>Pressure9am</th>\n",
              "      <th>Pressure3pm</th>\n",
              "      <th>Cloud9am</th>\n",
              "      <th>Cloud3pm</th>\n",
              "      <th>Temp9am</th>\n",
              "      <th>Temp3pm</th>\n",
              "      <th>RainToday</th>\n",
              "      <th>RainTomorrow</th>\n",
              "    </tr>\n",
              "  </thead>\n",
              "  <tbody>\n",
              "    <tr>\n",
              "      <th>0</th>\n",
              "      <td>2008-12-01</td>\n",
              "      <td>Albury</td>\n",
              "      <td>13.4</td>\n",
              "      <td>22.9</td>\n",
              "      <td>0.6</td>\n",
              "      <td>NaN</td>\n",
              "      <td>NaN</td>\n",
              "      <td>W</td>\n",
              "      <td>44.0</td>\n",
              "      <td>W</td>\n",
              "      <td>WNW</td>\n",
              "      <td>20.0</td>\n",
              "      <td>24.0</td>\n",
              "      <td>71.0</td>\n",
              "      <td>22.0</td>\n",
              "      <td>1007.7</td>\n",
              "      <td>1007.1</td>\n",
              "      <td>8.0</td>\n",
              "      <td>NaN</td>\n",
              "      <td>16.9</td>\n",
              "      <td>21.8</td>\n",
              "      <td>No</td>\n",
              "      <td>No</td>\n",
              "    </tr>\n",
              "    <tr>\n",
              "      <th>1</th>\n",
              "      <td>2008-12-02</td>\n",
              "      <td>Albury</td>\n",
              "      <td>7.4</td>\n",
              "      <td>25.1</td>\n",
              "      <td>0.0</td>\n",
              "      <td>NaN</td>\n",
              "      <td>NaN</td>\n",
              "      <td>WNW</td>\n",
              "      <td>44.0</td>\n",
              "      <td>NNW</td>\n",
              "      <td>WSW</td>\n",
              "      <td>4.0</td>\n",
              "      <td>22.0</td>\n",
              "      <td>44.0</td>\n",
              "      <td>25.0</td>\n",
              "      <td>1010.6</td>\n",
              "      <td>1007.8</td>\n",
              "      <td>NaN</td>\n",
              "      <td>NaN</td>\n",
              "      <td>17.2</td>\n",
              "      <td>24.3</td>\n",
              "      <td>No</td>\n",
              "      <td>No</td>\n",
              "    </tr>\n",
              "    <tr>\n",
              "      <th>2</th>\n",
              "      <td>2008-12-03</td>\n",
              "      <td>Albury</td>\n",
              "      <td>12.9</td>\n",
              "      <td>25.7</td>\n",
              "      <td>0.0</td>\n",
              "      <td>NaN</td>\n",
              "      <td>NaN</td>\n",
              "      <td>WSW</td>\n",
              "      <td>46.0</td>\n",
              "      <td>W</td>\n",
              "      <td>WSW</td>\n",
              "      <td>19.0</td>\n",
              "      <td>26.0</td>\n",
              "      <td>38.0</td>\n",
              "      <td>30.0</td>\n",
              "      <td>1007.6</td>\n",
              "      <td>1008.7</td>\n",
              "      <td>NaN</td>\n",
              "      <td>2.0</td>\n",
              "      <td>21.0</td>\n",
              "      <td>23.2</td>\n",
              "      <td>No</td>\n",
              "      <td>No</td>\n",
              "    </tr>\n",
              "    <tr>\n",
              "      <th>3</th>\n",
              "      <td>2008-12-04</td>\n",
              "      <td>Albury</td>\n",
              "      <td>9.2</td>\n",
              "      <td>28.0</td>\n",
              "      <td>0.0</td>\n",
              "      <td>NaN</td>\n",
              "      <td>NaN</td>\n",
              "      <td>NE</td>\n",
              "      <td>24.0</td>\n",
              "      <td>SE</td>\n",
              "      <td>E</td>\n",
              "      <td>11.0</td>\n",
              "      <td>9.0</td>\n",
              "      <td>45.0</td>\n",
              "      <td>16.0</td>\n",
              "      <td>1017.6</td>\n",
              "      <td>1012.8</td>\n",
              "      <td>NaN</td>\n",
              "      <td>NaN</td>\n",
              "      <td>18.1</td>\n",
              "      <td>26.5</td>\n",
              "      <td>No</td>\n",
              "      <td>No</td>\n",
              "    </tr>\n",
              "    <tr>\n",
              "      <th>4</th>\n",
              "      <td>2008-12-05</td>\n",
              "      <td>Albury</td>\n",
              "      <td>17.5</td>\n",
              "      <td>32.3</td>\n",
              "      <td>1.0</td>\n",
              "      <td>NaN</td>\n",
              "      <td>NaN</td>\n",
              "      <td>W</td>\n",
              "      <td>41.0</td>\n",
              "      <td>ENE</td>\n",
              "      <td>NW</td>\n",
              "      <td>7.0</td>\n",
              "      <td>20.0</td>\n",
              "      <td>82.0</td>\n",
              "      <td>33.0</td>\n",
              "      <td>1010.8</td>\n",
              "      <td>1006.0</td>\n",
              "      <td>7.0</td>\n",
              "      <td>8.0</td>\n",
              "      <td>17.8</td>\n",
              "      <td>29.7</td>\n",
              "      <td>No</td>\n",
              "      <td>No</td>\n",
              "    </tr>\n",
              "  </tbody>\n",
              "</table>\n",
              "</div>"
            ],
            "text/plain": [
              "         Date Location  MinTemp  ...  Temp3pm  RainToday  RainTomorrow\n",
              "0  2008-12-01   Albury     13.4  ...     21.8         No            No\n",
              "1  2008-12-02   Albury      7.4  ...     24.3         No            No\n",
              "2  2008-12-03   Albury     12.9  ...     23.2         No            No\n",
              "3  2008-12-04   Albury      9.2  ...     26.5         No            No\n",
              "4  2008-12-05   Albury     17.5  ...     29.7         No            No\n",
              "\n",
              "[5 rows x 23 columns]"
            ]
          },
          "metadata": {
            "tags": []
          },
          "execution_count": 116
        }
      ]
    },
    {
      "cell_type": "markdown",
      "metadata": {
        "id": "zrcdD87LoCW3"
      },
      "source": [
        "**Clean Data**"
      ]
    },
    {
      "cell_type": "code",
      "metadata": {
        "id": "MnksqbICoCW4",
        "colab": {
          "base_uri": "https://localhost:8080/"
        },
        "outputId": "4d0b9c31-047e-4300-eac5-13d265be2511"
      },
      "source": [
        "#check the missing values\n",
        "na_columns = df_2.isna().sum()\n",
        "#filter columns with at least 1 missing values\n",
        "na_columns = na_columns[na_columns != 0]\n",
        "\n",
        "print(na_columns.sort_values(ascending = False))"
      ],
      "execution_count": 117,
      "outputs": [
        {
          "output_type": "stream",
          "text": [
            "Sunshine         69835\n",
            "Evaporation      62790\n",
            "Cloud3pm         59358\n",
            "Cloud9am         55888\n",
            "Pressure9am      15065\n",
            "Pressure3pm      15028\n",
            "WindDir9am       10566\n",
            "WindGustDir      10326\n",
            "WindGustSpeed    10263\n",
            "Humidity3pm       4507\n",
            "WindDir3pm        4228\n",
            "Temp3pm           3609\n",
            "RainTomorrow      3267\n",
            "Rainfall          3261\n",
            "RainToday         3261\n",
            "WindSpeed3pm      3062\n",
            "Humidity9am       2654\n",
            "WindSpeed9am      1767\n",
            "Temp9am           1767\n",
            "MinTemp           1485\n",
            "MaxTemp           1261\n",
            "dtype: int64\n"
          ],
          "name": "stdout"
        }
      ]
    },
    {
      "cell_type": "code",
      "metadata": {
        "id": "7VImvihZoCW7"
      },
      "source": [
        "#Since we are going to forecast the data of 3pm, we can remove all the columns with 9am data\n",
        "df_2.drop(columns = [\"Sunshine\", \"Evaporation\",\"WindGustDir\", \"Cloud9am\", \"Pressure9am\", \"Pressure3pm\", \"WindDir9am\", \"WindDir3pm\", \"WindGustSpeed\", \"RainTomorrow\", \"WindSpeed3pm\", \"WindSpeed9am\", \"Temp9am\"], inplace = True)"
      ],
      "execution_count": 118,
      "outputs": []
    },
    {
      "cell_type": "code",
      "metadata": {
        "id": "pdYAGfK0oCW9",
        "colab": {
          "base_uri": "https://localhost:8080/",
          "height": 204
        },
        "outputId": "18222f03-95f2-4aba-89f1-b3d4326dbc1f"
      },
      "source": [
        "df.head()"
      ],
      "execution_count": 119,
      "outputs": [
        {
          "output_type": "execute_result",
          "data": {
            "text/html": [
              "<div>\n",
              "<style scoped>\n",
              "    .dataframe tbody tr th:only-of-type {\n",
              "        vertical-align: middle;\n",
              "    }\n",
              "\n",
              "    .dataframe tbody tr th {\n",
              "        vertical-align: top;\n",
              "    }\n",
              "\n",
              "    .dataframe thead th {\n",
              "        text-align: right;\n",
              "    }\n",
              "</style>\n",
              "<table border=\"1\" class=\"dataframe\">\n",
              "  <thead>\n",
              "    <tr style=\"text-align: right;\">\n",
              "      <th></th>\n",
              "      <th>MinTemp</th>\n",
              "      <th>MaxTemp</th>\n",
              "      <th>Rainfall</th>\n",
              "      <th>Humidity9am</th>\n",
              "      <th>Humidity3pm</th>\n",
              "      <th>Pressure3pm</th>\n",
              "      <th>Cloud3pm</th>\n",
              "      <th>RainToday</th>\n",
              "    </tr>\n",
              "  </thead>\n",
              "  <tbody>\n",
              "    <tr>\n",
              "      <th>0</th>\n",
              "      <td>13.4</td>\n",
              "      <td>22.9</td>\n",
              "      <td>0.6</td>\n",
              "      <td>71.0</td>\n",
              "      <td>22.0</td>\n",
              "      <td>1007.1</td>\n",
              "      <td>0.0</td>\n",
              "      <td>0.0</td>\n",
              "    </tr>\n",
              "    <tr>\n",
              "      <th>1</th>\n",
              "      <td>7.4</td>\n",
              "      <td>25.1</td>\n",
              "      <td>0.0</td>\n",
              "      <td>44.0</td>\n",
              "      <td>25.0</td>\n",
              "      <td>1007.8</td>\n",
              "      <td>0.0</td>\n",
              "      <td>0.0</td>\n",
              "    </tr>\n",
              "    <tr>\n",
              "      <th>2</th>\n",
              "      <td>12.9</td>\n",
              "      <td>25.7</td>\n",
              "      <td>0.0</td>\n",
              "      <td>38.0</td>\n",
              "      <td>30.0</td>\n",
              "      <td>1008.7</td>\n",
              "      <td>2.0</td>\n",
              "      <td>0.0</td>\n",
              "    </tr>\n",
              "    <tr>\n",
              "      <th>3</th>\n",
              "      <td>9.2</td>\n",
              "      <td>28.0</td>\n",
              "      <td>0.0</td>\n",
              "      <td>45.0</td>\n",
              "      <td>16.0</td>\n",
              "      <td>1012.8</td>\n",
              "      <td>0.0</td>\n",
              "      <td>0.0</td>\n",
              "    </tr>\n",
              "    <tr>\n",
              "      <th>4</th>\n",
              "      <td>17.5</td>\n",
              "      <td>32.3</td>\n",
              "      <td>1.0</td>\n",
              "      <td>82.0</td>\n",
              "      <td>33.0</td>\n",
              "      <td>1006.0</td>\n",
              "      <td>8.0</td>\n",
              "      <td>0.0</td>\n",
              "    </tr>\n",
              "  </tbody>\n",
              "</table>\n",
              "</div>"
            ],
            "text/plain": [
              "   MinTemp  MaxTemp  Rainfall  ...  Pressure3pm  Cloud3pm  RainToday\n",
              "0     13.4     22.9       0.6  ...       1007.1       0.0        0.0\n",
              "1      7.4     25.1       0.0  ...       1007.8       0.0        0.0\n",
              "2     12.9     25.7       0.0  ...       1008.7       2.0        0.0\n",
              "3      9.2     28.0       0.0  ...       1012.8       0.0        0.0\n",
              "4     17.5     32.3       1.0  ...       1006.0       8.0        0.0\n",
              "\n",
              "[5 rows x 8 columns]"
            ]
          },
          "metadata": {
            "tags": []
          },
          "execution_count": 119
        }
      ]
    },
    {
      "cell_type": "code",
      "metadata": {
        "id": "DsfbfJmAoCW_"
      },
      "source": [
        "#remove rows in RainToday which have a missing data, keeping them will misslead us since we are going to have 0 as No and Yes as 1\n",
        "df_2[\"RainToday\"].dropna(inplace = True)"
      ],
      "execution_count": 120,
      "outputs": []
    },
    {
      "cell_type": "code",
      "metadata": {
        "id": "bxasQQBIoCXB",
        "colab": {
          "base_uri": "https://localhost:8080/"
        },
        "outputId": "f027b2ae-a565-4444-c239-8909be56279a"
      },
      "source": [
        "#check if we still have any rows with missing data\n",
        "df_2[\"RainToday\"].isna().sum()"
      ],
      "execution_count": 121,
      "outputs": [
        {
          "output_type": "execute_result",
          "data": {
            "text/plain": [
              "3261"
            ]
          },
          "metadata": {
            "tags": []
          },
          "execution_count": 121
        }
      ]
    },
    {
      "cell_type": "code",
      "metadata": {
        "id": "VnPh31rEoCXD",
        "colab": {
          "base_uri": "https://localhost:8080/"
        },
        "outputId": "b44ceae9-993e-4ae3-96f8-90fd2837bb42"
      },
      "source": [
        "#fill other columns with missing values with 0 since the missing percentage is too small\n",
        "df_2.fillna(0, inplace = True)\n",
        "\n",
        "print(df_2.isna().sum())"
      ],
      "execution_count": 122,
      "outputs": [
        {
          "output_type": "stream",
          "text": [
            "Date           0\n",
            "Location       0\n",
            "MinTemp        0\n",
            "MaxTemp        0\n",
            "Rainfall       0\n",
            "Humidity9am    0\n",
            "Humidity3pm    0\n",
            "Cloud3pm       0\n",
            "Temp3pm        0\n",
            "RainToday      0\n",
            "dtype: int64\n"
          ],
          "name": "stdout"
        }
      ]
    },
    {
      "cell_type": "code",
      "metadata": {
        "id": "Td1rxksuoCXF",
        "colab": {
          "base_uri": "https://localhost:8080/"
        },
        "outputId": "68dd3682-66e5-4e8d-c93c-e77ead24f1a3"
      },
      "source": [
        "#verify if there is no column with missing data\n",
        "print(\"Missing Data: \", len(na_columns))\n",
        "#print unique values of Location:\n",
        "locations = df_2[\"Location\"].unique()\n",
        "print(locations)\n",
        "print(len(locations))"
      ],
      "execution_count": 123,
      "outputs": [
        {
          "output_type": "stream",
          "text": [
            "Missing Data:  21\n",
            "['Albury' 'BadgerysCreek' 'Cobar' 'CoffsHarbour' 'Moree' 'Newcastle'\n",
            " 'NorahHead' 'NorfolkIsland' 'Penrith' 'Richmond' 'Sydney' 'SydneyAirport'\n",
            " 'WaggaWagga' 'Williamtown' 'Wollongong' 'Canberra' 'Tuggeranong'\n",
            " 'MountGinini' 'Ballarat' 'Bendigo' 'Sale' 'MelbourneAirport' 'Melbourne'\n",
            " 'Mildura' 'Nhil' 'Portland' 'Watsonia' 'Dartmoor' 'Brisbane' 'Cairns'\n",
            " 'GoldCoast' 'Townsville' 'Adelaide' 'MountGambier' 'Nuriootpa' 'Woomera'\n",
            " 'Albany' 'Witchcliffe' 'PearceRAAF' 'PerthAirport' 'Perth' 'SalmonGums'\n",
            " 'Walpole' 'Hobart' 'Launceston' 'AliceSprings' 'Darwin' 'Katherine'\n",
            " 'Uluru']\n",
            "49\n"
          ],
          "name": "stdout"
        }
      ]
    },
    {
      "cell_type": "code",
      "metadata": {
        "id": "aHyeH6HooCXH"
      },
      "source": [
        "#Convert non-numerical values into numerical values.\n",
        "#Locations\n",
        "areas = {key:value for key,value in zip(locations, range(0, len(locations)))} #creates a d dictionary\n",
        "df_2[\"Location\"] = df_2[\"Location\"].map(areas) #maps new values into a Location column\n",
        "\n",
        "#Yes and No answers\n",
        "yes_no = {\"Yes\": 1, \"No\": 0}\n",
        "df_2[\"RainToday\"] = df_2[\"RainToday\"].map(yes_no)"
      ],
      "execution_count": 124,
      "outputs": []
    },
    {
      "cell_type": "code",
      "metadata": {
        "id": "X7Wh-UfGoCXJ",
        "colab": {
          "base_uri": "https://localhost:8080/"
        },
        "outputId": "f58bdf3d-9b06-4635-b199-4dee43ba6570"
      },
      "source": [
        "print(df_2[\"RainToday\"].head())\n",
        "print(df_2[\"Location\"].head())"
      ],
      "execution_count": 125,
      "outputs": [
        {
          "output_type": "stream",
          "text": [
            "0    0.0\n",
            "1    0.0\n",
            "2    0.0\n",
            "3    0.0\n",
            "4    0.0\n",
            "Name: RainToday, dtype: float64\n",
            "0    0\n",
            "1    0\n",
            "2    0\n",
            "3    0\n",
            "4    0\n",
            "Name: Location, dtype: int64\n"
          ],
          "name": "stdout"
        }
      ]
    },
    {
      "cell_type": "markdown",
      "metadata": {
        "id": "ihGhoUAWoCXM"
      },
      "source": [
        "**Feature and Target Columns**\n",
        "\n",
        "Seperate feature columns from target column **df[\"RainToday\"]**"
      ]
    },
    {
      "cell_type": "code",
      "metadata": {
        "id": "WtAkSA5JoCXN",
        "colab": {
          "base_uri": "https://localhost:8080/"
        },
        "outputId": "c82f7b5a-b6df-4c15-96df-68aa93275567"
      },
      "source": [
        "#checking which to keep since other factors dont have much influence on the target column\n",
        "df_2.columns"
      ],
      "execution_count": 126,
      "outputs": [
        {
          "output_type": "execute_result",
          "data": {
            "text/plain": [
              "Index(['Date', 'Location', 'MinTemp', 'MaxTemp', 'Rainfall', 'Humidity9am',\n",
              "       'Humidity3pm', 'Cloud3pm', 'Temp3pm', 'RainToday'],\n",
              "      dtype='object')"
            ]
          },
          "metadata": {
            "tags": []
          },
          "execution_count": 126
        }
      ]
    },
    {
      "cell_type": "markdown",
      "metadata": {
        "id": "f0OXBt1PoCXQ"
      },
      "source": [
        "The focus of the model will be in the afternoon, meaning 3pm since we have both 9am and 3pm data"
      ]
    },
    {
      "cell_type": "code",
      "metadata": {
        "id": "6C5RsAX1oCXb",
        "colab": {
          "base_uri": "https://localhost:8080/"
        },
        "outputId": "8b5dc434-1483-4b19-f5dd-30565eb1a31b"
      },
      "source": [
        "#Creating feature columns\n",
        "features = [\"Temp3pm\", \"Humidity3pm\", \"Cloud3pm\"]\n",
        "\n",
        "X = df_2[features] \n",
        "y = df_2[\"RainToday\"] #target column\n",
        "\n",
        "print(X.head())\n",
        "print(\"\\ny\\n\", y.head())\n",
        "print(\"\\ny missing values: \", y.isna().sum())"
      ],
      "execution_count": 127,
      "outputs": [
        {
          "output_type": "stream",
          "text": [
            "   Temp3pm  Humidity3pm  Cloud3pm\n",
            "0     21.8         22.0       0.0\n",
            "1     24.3         25.0       0.0\n",
            "2     23.2         30.0       2.0\n",
            "3     26.5         16.0       0.0\n",
            "4     29.7         33.0       8.0\n",
            "\n",
            "y\n",
            " 0    0.0\n",
            "1    0.0\n",
            "2    0.0\n",
            "3    0.0\n",
            "4    0.0\n",
            "Name: RainToday, dtype: float64\n",
            "\n",
            "y missing values:  3261\n"
          ],
          "name": "stdout"
        }
      ]
    },
    {
      "cell_type": "markdown",
      "metadata": {
        "id": "qF-zr2eXoCXd"
      },
      "source": [
        "Creating a decition tree and saving it as image, thereafter show the image"
      ]
    },
    {
      "cell_type": "code",
      "metadata": {
        "id": "mg_zefu-oCYw"
      },
      "source": [
        "#fill in missing values in y with 0\n",
        "y.fillna(0, inplace = True)"
      ],
      "execution_count": 128,
      "outputs": []
    },
    {
      "cell_type": "code",
      "metadata": {
        "id": "KPBwIYRHoCYy",
        "colab": {
          "base_uri": "https://localhost:8080/"
        },
        "outputId": "9fde454b-fdc9-4db9-bfa2-2d3bc5696e65"
      },
      "source": [
        "y.isna().sum()"
      ],
      "execution_count": 129,
      "outputs": [
        {
          "output_type": "execute_result",
          "data": {
            "text/plain": [
              "0"
            ]
          },
          "metadata": {
            "tags": []
          },
          "execution_count": 129
        }
      ]
    },
    {
      "cell_type": "code",
      "metadata": {
        "id": "cr9csumRoCY0"
      },
      "source": [
        "#fit the data into the model\n",
        "decision_tree = DecisionTreeClassifier() #assign dtree to a classifier model\n",
        "decition_tree = decision_tree.fit(X, y) #fit X and y to the classifier\n",
        "\n",
        "data = tree.export_graphviz(decision_tree, out_file = None, feature_names =  features)"
      ],
      "execution_count": 130,
      "outputs": []
    },
    {
      "cell_type": "code",
      "metadata": {
        "id": "Mue5DYp0oCY1"
      },
      "source": [
        "#Graph the decision tree with the generated data\n",
        "graph = pydotplus.graph_from_dot_data(data)\n",
        "graph.write_png(\"WeatherAUS_Decision_Tree.png\")\n",
        "\n",
        "img = pltimg.imread(\"WeatherAUS_Decision_Tree.png\")\n",
        "imgplot = plt.imshow(img)\n",
        "plt.show()"
      ],
      "execution_count": null,
      "outputs": []
    },
    {
      "cell_type": "code",
      "metadata": {
        "id": "jntHSEAjoCY2"
      },
      "source": [
        ""
      ],
      "execution_count": null,
      "outputs": []
    }
  ]
}