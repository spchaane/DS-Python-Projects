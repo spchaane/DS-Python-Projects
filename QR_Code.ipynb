{
  "nbformat": 4,
  "nbformat_minor": 0,
  "metadata": {
    "colab": {
      "name": "QR_Code.ipynb",
      "provenance": [],
      "authorship_tag": "ABX9TyOikhkI5+e0FP0Bza7TfgrK",
      "include_colab_link": true
    },
    "kernelspec": {
      "name": "python3",
      "display_name": "Python 3"
    }
  },
  "cells": [
    {
      "cell_type": "markdown",
      "metadata": {
        "id": "view-in-github",
        "colab_type": "text"
      },
      "source": [
        "<a href=\"https://colab.research.google.com/github/spchaane/python-projects/blob/main/QR_Code.ipynb\" target=\"_parent\"><img src=\"https://colab.research.google.com/assets/colab-badge.svg\" alt=\"Open In Colab\"/></a>"
      ]
    },
    {
      "cell_type": "code",
      "metadata": {
        "colab": {
          "base_uri": "https://localhost:8080/"
        },
        "id": "5mQviPMMD28g",
        "outputId": "1ce26cbe-dd64-458c-a8ee-f4bf4bb5f13a"
      },
      "source": [
        "pip install pyqrcode"
      ],
      "execution_count": null,
      "outputs": [
        {
          "output_type": "stream",
          "text": [
            "Collecting pyqrcode\n",
            "  Downloading https://files.pythonhosted.org/packages/37/61/f07226075c347897937d4086ef8e55f0a62ae535e28069884ac68d979316/PyQRCode-1.2.1.tar.gz\n",
            "Building wheels for collected packages: pyqrcode\n",
            "  Building wheel for pyqrcode (setup.py) ... \u001b[?25l\u001b[?25hdone\n",
            "  Created wheel for pyqrcode: filename=PyQRCode-1.2.1-cp36-none-any.whl size=36245 sha256=c4a41cd43b4f36f2e850d0688efff1445079f2ca9d77ef08153d7115da563000\n",
            "  Stored in directory: /root/.cache/pip/wheels/54/61/2f/a4f51b09473db5737db0f654ed10eb9a4ee01f83a7412de349\n",
            "Successfully built pyqrcode\n",
            "Installing collected packages: pyqrcode\n",
            "Successfully installed pyqrcode-1.2.1\n"
          ],
          "name": "stdout"
        }
      ]
    },
    {
      "cell_type": "code",
      "metadata": {
        "colab": {
          "base_uri": "https://localhost:8080/"
        },
        "id": "j4KA7YZREb3f",
        "outputId": "0a4ea124-ed1d-4269-deec-b1ca9ec9c5c5"
      },
      "source": [
        "pip install pypng"
      ],
      "execution_count": null,
      "outputs": [
        {
          "output_type": "stream",
          "text": [
            "Collecting pypng\n",
            "\u001b[?25l  Downloading https://files.pythonhosted.org/packages/bc/fb/f719f1ac965e2101aa6ea6f54ef8b40f8fbb033f6ad07c017663467f5147/pypng-0.0.20.tar.gz (649kB)\n",
            "\r\u001b[K     |▌                               | 10kB 12.3MB/s eta 0:00:01\r\u001b[K     |█                               | 20kB 16.0MB/s eta 0:00:01\r\u001b[K     |█▌                              | 30kB 14.8MB/s eta 0:00:01\r\u001b[K     |██                              | 40kB 10.8MB/s eta 0:00:01\r\u001b[K     |██▌                             | 51kB 10.5MB/s eta 0:00:01\r\u001b[K     |███                             | 61kB 8.4MB/s eta 0:00:01\r\u001b[K     |███▌                            | 71kB 9.3MB/s eta 0:00:01\r\u001b[K     |████                            | 81kB 10.2MB/s eta 0:00:01\r\u001b[K     |████▌                           | 92kB 9.4MB/s eta 0:00:01\r\u001b[K     |█████                           | 102kB 9.5MB/s eta 0:00:01\r\u001b[K     |█████▌                          | 112kB 9.5MB/s eta 0:00:01\r\u001b[K     |██████                          | 122kB 9.5MB/s eta 0:00:01\r\u001b[K     |██████▋                         | 133kB 9.5MB/s eta 0:00:01\r\u001b[K     |███████                         | 143kB 9.5MB/s eta 0:00:01\r\u001b[K     |███████▋                        | 153kB 9.5MB/s eta 0:00:01\r\u001b[K     |████████                        | 163kB 9.5MB/s eta 0:00:01\r\u001b[K     |████████▋                       | 174kB 9.5MB/s eta 0:00:01\r\u001b[K     |█████████                       | 184kB 9.5MB/s eta 0:00:01\r\u001b[K     |█████████▋                      | 194kB 9.5MB/s eta 0:00:01\r\u001b[K     |██████████                      | 204kB 9.5MB/s eta 0:00:01\r\u001b[K     |██████████▋                     | 215kB 9.5MB/s eta 0:00:01\r\u001b[K     |███████████                     | 225kB 9.5MB/s eta 0:00:01\r\u001b[K     |███████████▋                    | 235kB 9.5MB/s eta 0:00:01\r\u001b[K     |████████████                    | 245kB 9.5MB/s eta 0:00:01\r\u001b[K     |████████████▋                   | 256kB 9.5MB/s eta 0:00:01\r\u001b[K     |█████████████▏                  | 266kB 9.5MB/s eta 0:00:01\r\u001b[K     |█████████████▋                  | 276kB 9.5MB/s eta 0:00:01\r\u001b[K     |██████████████▏                 | 286kB 9.5MB/s eta 0:00:01\r\u001b[K     |██████████████▋                 | 296kB 9.5MB/s eta 0:00:01\r\u001b[K     |███████████████▏                | 307kB 9.5MB/s eta 0:00:01\r\u001b[K     |███████████████▋                | 317kB 9.5MB/s eta 0:00:01\r\u001b[K     |████████████████▏               | 327kB 9.5MB/s eta 0:00:01\r\u001b[K     |████████████████▋               | 337kB 9.5MB/s eta 0:00:01\r\u001b[K     |█████████████████▏              | 348kB 9.5MB/s eta 0:00:01\r\u001b[K     |█████████████████▋              | 358kB 9.5MB/s eta 0:00:01\r\u001b[K     |██████████████████▏             | 368kB 9.5MB/s eta 0:00:01\r\u001b[K     |██████████████████▋             | 378kB 9.5MB/s eta 0:00:01\r\u001b[K     |███████████████████▏            | 389kB 9.5MB/s eta 0:00:01\r\u001b[K     |███████████████████▊            | 399kB 9.5MB/s eta 0:00:01\r\u001b[K     |████████████████████▏           | 409kB 9.5MB/s eta 0:00:01\r\u001b[K     |████████████████████▊           | 419kB 9.5MB/s eta 0:00:01\r\u001b[K     |█████████████████████▏          | 430kB 9.5MB/s eta 0:00:01\r\u001b[K     |█████████████████████▊          | 440kB 9.5MB/s eta 0:00:01\r\u001b[K     |██████████████████████▏         | 450kB 9.5MB/s eta 0:00:01\r\u001b[K     |██████████████████████▊         | 460kB 9.5MB/s eta 0:00:01\r\u001b[K     |███████████████████████▏        | 471kB 9.5MB/s eta 0:00:01\r\u001b[K     |███████████████████████▊        | 481kB 9.5MB/s eta 0:00:01\r\u001b[K     |████████████████████████▏       | 491kB 9.5MB/s eta 0:00:01\r\u001b[K     |████████████████████████▊       | 501kB 9.5MB/s eta 0:00:01\r\u001b[K     |█████████████████████████▎      | 512kB 9.5MB/s eta 0:00:01\r\u001b[K     |█████████████████████████▊      | 522kB 9.5MB/s eta 0:00:01\r\u001b[K     |██████████████████████████▎     | 532kB 9.5MB/s eta 0:00:01\r\u001b[K     |██████████████████████████▊     | 542kB 9.5MB/s eta 0:00:01\r\u001b[K     |███████████████████████████▎    | 552kB 9.5MB/s eta 0:00:01\r\u001b[K     |███████████████████████████▊    | 563kB 9.5MB/s eta 0:00:01\r\u001b[K     |████████████████████████████▎   | 573kB 9.5MB/s eta 0:00:01\r\u001b[K     |████████████████████████████▊   | 583kB 9.5MB/s eta 0:00:01\r\u001b[K     |█████████████████████████████▎  | 593kB 9.5MB/s eta 0:00:01\r\u001b[K     |█████████████████████████████▊  | 604kB 9.5MB/s eta 0:00:01\r\u001b[K     |██████████████████████████████▎ | 614kB 9.5MB/s eta 0:00:01\r\u001b[K     |██████████████████████████████▊ | 624kB 9.5MB/s eta 0:00:01\r\u001b[K     |███████████████████████████████▎| 634kB 9.5MB/s eta 0:00:01\r\u001b[K     |███████████████████████████████▉| 645kB 9.5MB/s eta 0:00:01\r\u001b[K     |████████████████████████████████| 655kB 9.5MB/s \n",
            "\u001b[?25hBuilding wheels for collected packages: pypng\n",
            "  Building wheel for pypng (setup.py) ... \u001b[?25l\u001b[?25hdone\n",
            "  Created wheel for pypng: filename=pypng-0.0.20-cp36-none-any.whl size=67161 sha256=9122de22b24e4ae94423b8b68757d09a59090a4566a1c6813e57ccdfcd78acca\n",
            "  Stored in directory: /root/.cache/pip/wheels/41/6b/ef/0493b536b6d4722c2ae9486691b1d49b922b9877922beeabb3\n",
            "Successfully built pypng\n",
            "Installing collected packages: pypng\n",
            "Successfully installed pypng-0.0.20\n"
          ],
          "name": "stdout"
        }
      ]
    },
    {
      "cell_type": "code",
      "metadata": {
        "id": "xiPbBXlSExTm"
      },
      "source": [
        "\"\"\"\r\n",
        "The program creates a QRCode for Andiile-phelviin music\r\n",
        "\r\n",
        "\"\"\"\r\n",
        "#import QRCode from pyqrcode and png\r\n",
        "import pyqrcode\r\n",
        "import png\r\n",
        "from pyqrcode import QRCode"
      ],
      "execution_count": null,
      "outputs": []
    },
    {
      "cell_type": "code",
      "metadata": {
        "id": "RczWxX_YFDiu"
      },
      "source": [
        "#string representing the QR Code for Andiile-Phelviin\r\n",
        "andiile_site = \"https://hearthis.at/andiile-phelviin\"\r\n",
        "\r\n",
        "#Generate QR Code\r\n",
        "url_qr = pyqrcode.create(andiile_site)"
      ],
      "execution_count": null,
      "outputs": []
    },
    {
      "cell_type": "code",
      "metadata": {
        "id": "vrNMrF4JF9mh"
      },
      "source": [
        "#create and save the svg file naming \"andiile-phelviin-music.svg\"\r\n",
        "url_qr.svg(\"andiile-phelviin-music.svg\", scale = 8)"
      ],
      "execution_count": null,
      "outputs": []
    },
    {
      "cell_type": "code",
      "metadata": {
        "id": "8VyaUB8KI3-_"
      },
      "source": [
        "#create and save the png file naming \"andiile-phelviin-music.png\"\r\n",
        "url_qr.png(\"andiile-phelviin-music.png\", scale = 6)"
      ],
      "execution_count": null,
      "outputs": []
    }
  ]
}