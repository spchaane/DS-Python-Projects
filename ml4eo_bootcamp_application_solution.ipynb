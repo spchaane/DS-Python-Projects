{
  "nbformat": 4,
  "nbformat_minor": 0,
  "metadata": {
    "kernelspec": {
      "display_name": "Python 3",
      "language": "python",
      "name": "python3"
    },
    "language_info": {
      "codemirror_mode": {
        "name": "ipython",
        "version": 3
      },
      "file_extension": ".py",
      "mimetype": "text/x-python",
      "name": "python",
      "nbconvert_exporter": "python",
      "pygments_lexer": "ipython3",
      "version": "3.7.4"
    },
    "colab": {
      "name": "ml4eo_bootcamp_application_solution.ipynb",
      "provenance": [],
      "collapsed_sections": [],
      "include_colab_link": true
    }
  },
  "cells": [
    {
      "cell_type": "markdown",
      "metadata": {
        "id": "view-in-github",
        "colab_type": "text"
      },
      "source": [
        "<a href=\"https://colab.research.google.com/github/spchaane/DS-Python-Projects/blob/main/ml4eo_bootcamp_application_solution.ipynb\" target=\"_parent\"><img src=\"https://colab.research.google.com/assets/colab-badge.svg\" alt=\"Open In Colab\"/></a>"
      ]
    },
    {
      "cell_type": "markdown",
      "metadata": {
        "id": "tgeRwyDyehGB"
      },
      "source": [
        "## Application Exercises\n",
        "\n",
        "These exercises will be used to evaluate your ability to work with geospatial data in Python. You will need several python packages to complete these exercises, the packages required are as follows:\n",
        "\n",
        "* geopandas\n",
        "* pandas\n",
        "* rasterio\n",
        "* fiona\n",
        "* pycrs\n",
        "\n",
        "For each cell where you see \"WRITE YOUR CODE HERE\" delete the return notImplemented statement when you write your code there - don't leave it in the notebook. This notebook contains test cases to evaluate whether your functions are working correctly. When you run these cells they will print either \"Congratulations, all is working just fine !!!\" if your function works or \"Sorry wrong answer\" if it does not. Once you finish these exercises, upload the completed notebook to the application page and submit your application.\n",
        "\n",
        "In case of any questions, contact the organizers at hello@radiant.earth"
      ]
    },
    {
      "cell_type": "code",
      "metadata": {
        "colab": {
          "base_uri": "https://localhost:8080/"
        },
        "id": "ArERuahDemOJ",
        "outputId": "ad8d274c-5161-433e-866e-85151cc5bd6a"
      },
      "source": [
        "pip install geopandas"
      ],
      "execution_count": 101,
      "outputs": [
        {
          "output_type": "stream",
          "text": [
            "Requirement already satisfied: geopandas in /usr/local/lib/python3.7/dist-packages (0.9.0)\n",
            "Requirement already satisfied: shapely>=1.6 in /usr/local/lib/python3.7/dist-packages (from geopandas) (1.7.1)\n",
            "Requirement already satisfied: fiona>=1.8 in /usr/local/lib/python3.7/dist-packages (from geopandas) (1.8.18)\n",
            "Requirement already satisfied: pandas>=0.24.0 in /usr/local/lib/python3.7/dist-packages (from geopandas) (1.1.5)\n",
            "Requirement already satisfied: pyproj>=2.2.0 in /usr/local/lib/python3.7/dist-packages (from geopandas) (3.0.1)\n",
            "Requirement already satisfied: certifi in /usr/local/lib/python3.7/dist-packages (from fiona>=1.8->geopandas) (2020.12.5)\n",
            "Requirement already satisfied: cligj>=0.5 in /usr/local/lib/python3.7/dist-packages (from fiona>=1.8->geopandas) (0.7.1)\n",
            "Requirement already satisfied: munch in /usr/local/lib/python3.7/dist-packages (from fiona>=1.8->geopandas) (2.5.0)\n",
            "Requirement already satisfied: click-plugins>=1.0 in /usr/local/lib/python3.7/dist-packages (from fiona>=1.8->geopandas) (1.1.1)\n",
            "Requirement already satisfied: attrs>=17 in /usr/local/lib/python3.7/dist-packages (from fiona>=1.8->geopandas) (20.3.0)\n",
            "Requirement already satisfied: six>=1.7 in /usr/local/lib/python3.7/dist-packages (from fiona>=1.8->geopandas) (1.15.0)\n",
            "Requirement already satisfied: click<8,>=4.0 in /usr/local/lib/python3.7/dist-packages (from fiona>=1.8->geopandas) (7.1.2)\n",
            "Requirement already satisfied: numpy>=1.15.4 in /usr/local/lib/python3.7/dist-packages (from pandas>=0.24.0->geopandas) (1.19.5)\n",
            "Requirement already satisfied: python-dateutil>=2.7.3 in /usr/local/lib/python3.7/dist-packages (from pandas>=0.24.0->geopandas) (2.8.1)\n",
            "Requirement already satisfied: pytz>=2017.2 in /usr/local/lib/python3.7/dist-packages (from pandas>=0.24.0->geopandas) (2018.9)\n"
          ],
          "name": "stdout"
        }
      ]
    },
    {
      "cell_type": "markdown",
      "metadata": {
        "id": "-ZhzELweehGk"
      },
      "source": [
        "### Reading in data using GeoPandas\n",
        "[GeoPandas](https://geopandas.org/) is a Python library that is particularly good for doing any geospatial-data-related tasks in Python. We will use several other libraries in Python as well.\n",
        "\n",
        "To test that everything is working fine:\n",
        "1. Ensure that all of the files from the repository are in the same directory as this notebook.\n",
        "2. Use GeoPandas to read in the first sheet of data from the geojson file as shown below\n",
        "3. Work through some of the example analyses shown and complete the questions that follow."
      ]
    },
    {
      "cell_type": "code",
      "metadata": {
        "colab": {
          "base_uri": "https://localhost:8080/",
          "height": 598
        },
        "id": "v1Jlimo4ehGo",
        "outputId": "3bdcd5e9-e276-445b-9e84-fe3f9040fa51"
      },
      "source": [
        "import geopandas\n",
        "import pandas as pd\n",
        "\n",
        "data = geopandas.read_file(\"crops.geojson\")\n",
        "data.head() # show the first 5 rows of the data."
      ],
      "execution_count": 102,
      "outputs": [
        {
          "output_type": "execute_result",
          "data": {
            "text/html": [
              "<div>\n",
              "<style scoped>\n",
              "    .dataframe tbody tr th:only-of-type {\n",
              "        vertical-align: middle;\n",
              "    }\n",
              "\n",
              "    .dataframe tbody tr th {\n",
              "        vertical-align: top;\n",
              "    }\n",
              "\n",
              "    .dataframe thead th {\n",
              "        text-align: right;\n",
              "    }\n",
              "</style>\n",
              "<table border=\"1\" class=\"dataframe\">\n",
              "  <thead>\n",
              "    <tr style=\"text-align: right;\">\n",
              "      <th></th>\n",
              "      <th>Field ID</th>\n",
              "      <th>Latitude</th>\n",
              "      <th>Longitude</th>\n",
              "      <th>Accuracy</th>\n",
              "      <th>Survey Date</th>\n",
              "      <th>Water Resource</th>\n",
              "      <th>Planting Date</th>\n",
              "      <th>PlantingDate Method</th>\n",
              "      <th>Estimated Harvest Date</th>\n",
              "      <th>Crop1</th>\n",
              "      <th>Crop2</th>\n",
              "      <th>Crop3</th>\n",
              "      <th>Crop4</th>\n",
              "      <th>Crop5</th>\n",
              "      <th>Crop Density</th>\n",
              "      <th>Variety</th>\n",
              "      <th>CMD Rating</th>\n",
              "      <th>CBSD Rating</th>\n",
              "      <th>CGM Rating</th>\n",
              "      <th>Disease Rating</th>\n",
              "      <th>geometry</th>\n",
              "    </tr>\n",
              "  </thead>\n",
              "  <tbody>\n",
              "    <tr>\n",
              "      <th>0</th>\n",
              "      <td>5.1</td>\n",
              "      <td>0.538299</td>\n",
              "      <td>34.22033</td>\n",
              "      <td>3.216</td>\n",
              "      <td>2019-05-16</td>\n",
              "      <td>rainfed</td>\n",
              "      <td>2018-08-13</td>\n",
              "      <td>Recorded</td>\n",
              "      <td>2019-06-13</td>\n",
              "      <td>Cassava</td>\n",
              "      <td></td>\n",
              "      <td></td>\n",
              "      <td></td>\n",
              "      <td></td>\n",
              "      <td>40</td>\n",
              "      <td>Tanzania</td>\n",
              "      <td>NULL</td>\n",
              "      <td>NULL</td>\n",
              "      <td>NULL</td>\n",
              "      <td>NULL</td>\n",
              "      <td>POLYGON ((635776.260 59518.908, 635798.727 595...</td>\n",
              "    </tr>\n",
              "    <tr>\n",
              "      <th>1</th>\n",
              "      <td>5.101</td>\n",
              "      <td>0.538204</td>\n",
              "      <td>34.22009</td>\n",
              "      <td>4.288</td>\n",
              "      <td>2019-05-16</td>\n",
              "      <td>rainfed</td>\n",
              "      <td>2019-03-01</td>\n",
              "      <td>Estimated</td>\n",
              "      <td>2019-12-01</td>\n",
              "      <td>Maize</td>\n",
              "      <td></td>\n",
              "      <td></td>\n",
              "      <td></td>\n",
              "      <td></td>\n",
              "      <td>50</td>\n",
              "      <td>Null</td>\n",
              "      <td>NULL</td>\n",
              "      <td>NULL</td>\n",
              "      <td>NULL</td>\n",
              "      <td>NULL</td>\n",
              "      <td>POLYGON ((635766.485 59501.773, 635765.180 595...</td>\n",
              "    </tr>\n",
              "    <tr>\n",
              "      <th>2</th>\n",
              "      <td>6.1</td>\n",
              "      <td>0.539152</td>\n",
              "      <td>34.22034</td>\n",
              "      <td>4.288</td>\n",
              "      <td>2019-05-16</td>\n",
              "      <td>rainfed</td>\n",
              "      <td>2019-04-03</td>\n",
              "      <td>Recorded</td>\n",
              "      <td>2020-01-03</td>\n",
              "      <td>Maize</td>\n",
              "      <td>Groundnut</td>\n",
              "      <td></td>\n",
              "      <td></td>\n",
              "      <td></td>\n",
              "      <td>60</td>\n",
              "      <td>DH 04</td>\n",
              "      <td>NULL</td>\n",
              "      <td>NULL</td>\n",
              "      <td>NULL</td>\n",
              "      <td>NULL</td>\n",
              "      <td>POLYGON ((635800.201 59601.742, 635774.494 595...</td>\n",
              "    </tr>\n",
              "    <tr>\n",
              "      <th>3</th>\n",
              "      <td>6.101</td>\n",
              "      <td>0.539092</td>\n",
              "      <td>34.22031</td>\n",
              "      <td>3.216</td>\n",
              "      <td>2019-05-16</td>\n",
              "      <td>rainfed</td>\n",
              "      <td>2019-03-01</td>\n",
              "      <td>Estimated</td>\n",
              "      <td>2019-12-01</td>\n",
              "      <td>Maize</td>\n",
              "      <td></td>\n",
              "      <td></td>\n",
              "      <td></td>\n",
              "      <td></td>\n",
              "      <td>30</td>\n",
              "      <td>Null</td>\n",
              "      <td>NULL</td>\n",
              "      <td>NULL</td>\n",
              "      <td>NULL</td>\n",
              "      <td>NULL</td>\n",
              "      <td>POLYGON ((635798.934 59597.331, 635819.341 596...</td>\n",
              "    </tr>\n",
              "    <tr>\n",
              "      <th>4</th>\n",
              "      <td>6.2</td>\n",
              "      <td>0.539539</td>\n",
              "      <td>34.22064</td>\n",
              "      <td>4.288</td>\n",
              "      <td>2019-05-16</td>\n",
              "      <td>rainfed</td>\n",
              "      <td>2019-04-03</td>\n",
              "      <td>Recorded</td>\n",
              "      <td>2020-01-03</td>\n",
              "      <td>Maize</td>\n",
              "      <td>Bean</td>\n",
              "      <td></td>\n",
              "      <td></td>\n",
              "      <td></td>\n",
              "      <td>45</td>\n",
              "      <td>Null</td>\n",
              "      <td>NULL</td>\n",
              "      <td>NULL</td>\n",
              "      <td>NULL</td>\n",
              "      <td>NULL</td>\n",
              "      <td>POLYGON ((635829.837 59634.348, 635812.466 596...</td>\n",
              "    </tr>\n",
              "  </tbody>\n",
              "</table>\n",
              "</div>"
            ],
            "text/plain": [
              "  Field ID  ...                                           geometry\n",
              "0      5.1  ...  POLYGON ((635776.260 59518.908, 635798.727 595...\n",
              "1    5.101  ...  POLYGON ((635766.485 59501.773, 635765.180 595...\n",
              "2      6.1  ...  POLYGON ((635800.201 59601.742, 635774.494 595...\n",
              "3    6.101  ...  POLYGON ((635798.934 59597.331, 635819.341 596...\n",
              "4      6.2  ...  POLYGON ((635829.837 59634.348, 635812.466 596...\n",
              "\n",
              "[5 rows x 21 columns]"
            ]
          },
          "metadata": {
            "tags": []
          },
          "execution_count": 102
        }
      ]
    },
    {
      "cell_type": "markdown",
      "metadata": {
        "id": "0vw_clilehGt"
      },
      "source": [
        "### Dataset Description\n",
        "\n",
        "This dataset contains field boundaries for crop fields in Kenya as well as the crop types present. Each field can have multiple crops present and are represented in the \"Crop1\", \"Crop2\", \"Crop3\", \"Crop4\", and \"Crop5\" columns. Each record also has the date the survey was conducted, when the crops were planted, an estimated harvest date, and whether the planting date is an estimate."
      ]
    },
    {
      "cell_type": "markdown",
      "metadata": {
        "id": "PBzY98-6ehGw"
      },
      "source": [
        "### Listing all of the different types of crops present in this dataset"
      ]
    },
    {
      "cell_type": "code",
      "metadata": {
        "colab": {
          "base_uri": "https://localhost:8080/"
        },
        "id": "c-yltSXPehG0",
        "outputId": "3d3bf00a-4912-4c8d-a54e-4b9d5f02caec"
      },
      "source": [
        "list(pd.unique(data[['Crop1', 'Crop2', 'Crop3', 'Crop4', 'Crop5']].values.ravel('K')))"
      ],
      "execution_count": 103,
      "outputs": [
        {
          "output_type": "execute_result",
          "data": {
            "text/plain": [
              "['Cassava',\n",
              " 'Maize',\n",
              " 'Sorghum',\n",
              " 'Bean',\n",
              " 'Groundnut',\n",
              " 'Fallowland',\n",
              " 'Millet',\n",
              " 'Tomato',\n",
              " 'Sugarcane',\n",
              " 'Sweetpotato',\n",
              " 'Banana',\n",
              " '',\n",
              " 'Cowpea',\n",
              " 'Soybean']"
            ]
          },
          "metadata": {
            "tags": []
          },
          "execution_count": 103
        }
      ]
    },
    {
      "cell_type": "markdown",
      "metadata": {
        "id": "D6mxHZtBehG7"
      },
      "source": [
        "### For you to do"
      ]
    },
    {
      "cell_type": "code",
      "metadata": {
        "id": "64X-iT5lehG9"
      },
      "source": [
        "# Write your code to complete the following functions\n",
        "\n",
        "def get_crop_area(crop):\n",
        "    # Calculate the total area in square meters of the fields which contain the selected crop\n",
        "    \n",
        "    area = 0\n",
        "   \n",
        "    for index, row in data.iterrows():\n",
        "\n",
        "      if crop in row['Crop1'] or crop in row['Crop2'] or crop in row['Crop3'] or crop in row['Crop4'] or crop in row['Crop5']:\n",
        "        area += row['geometry'].area \n",
        "    return area"
      ],
      "execution_count": 104,
      "outputs": []
    },
    {
      "cell_type": "code",
      "metadata": {
        "colab": {
          "base_uri": "https://localhost:8080/"
        },
        "id": "MRcjCXp5ehG_",
        "outputId": "b4c5a31c-4255-4b5d-af30-0d3a91cb1958"
      },
      "source": [
        "# Run this to validate your function works correctly\n",
        "\n",
        "assert int(get_crop_area('Maize')) == 192534, \"Sorry wrong answer\"\n",
        "assert int(get_crop_area('Sorghum')) == 227, \"Sorry wrong answer\"\n",
        "assert int(get_crop_area('Banana')) == 946, \"Sorry wrong answer\"\n",
        "print(\"Congratulations, all is working just fine !!!\")"
      ],
      "execution_count": 105,
      "outputs": [
        {
          "output_type": "stream",
          "text": [
            "Congratulations, all is working just fine !!!\n"
          ],
          "name": "stdout"
        }
      ]
    },
    {
      "cell_type": "code",
      "metadata": {
        "colab": {
          "base_uri": "https://localhost:8080/"
        },
        "id": "QCyG7MFqkJ8c",
        "outputId": "f96fa277-f416-49bb-f50f-e595e06a4d71"
      },
      "source": [
        "pip install rasterio"
      ],
      "execution_count": 106,
      "outputs": [
        {
          "output_type": "stream",
          "text": [
            "Requirement already satisfied: rasterio in /usr/local/lib/python3.7/dist-packages (1.2.1)\n",
            "Requirement already satisfied: attrs in /usr/local/lib/python3.7/dist-packages (from rasterio) (20.3.0)\n",
            "Requirement already satisfied: snuggs>=1.4.1 in /usr/local/lib/python3.7/dist-packages (from rasterio) (1.4.7)\n",
            "Requirement already satisfied: click-plugins in /usr/local/lib/python3.7/dist-packages (from rasterio) (1.1.1)\n",
            "Requirement already satisfied: affine in /usr/local/lib/python3.7/dist-packages (from rasterio) (2.3.0)\n",
            "Requirement already satisfied: certifi in /usr/local/lib/python3.7/dist-packages (from rasterio) (2020.12.5)\n",
            "Requirement already satisfied: numpy in /usr/local/lib/python3.7/dist-packages (from rasterio) (1.19.5)\n",
            "Requirement already satisfied: click<8,>=4.0 in /usr/local/lib/python3.7/dist-packages (from rasterio) (7.1.2)\n",
            "Requirement already satisfied: cligj>=0.5 in /usr/local/lib/python3.7/dist-packages (from rasterio) (0.7.1)\n",
            "Requirement already satisfied: pyparsing>=2.1.6 in /usr/local/lib/python3.7/dist-packages (from snuggs>=1.4.1->rasterio) (2.4.7)\n"
          ],
          "name": "stdout"
        }
      ]
    },
    {
      "cell_type": "code",
      "metadata": {
        "colab": {
          "base_uri": "https://localhost:8080/"
        },
        "id": "SH5LnfCqk18b",
        "outputId": "d68952a2-ac52-4663-8f2c-3dd13da1bdaa"
      },
      "source": [
        "pip install pycrs"
      ],
      "execution_count": 107,
      "outputs": [
        {
          "output_type": "stream",
          "text": [
            "Requirement already satisfied: pycrs in /usr/local/lib/python3.7/dist-packages (1.0.2)\n"
          ],
          "name": "stdout"
        }
      ]
    },
    {
      "cell_type": "code",
      "metadata": {
        "id": "fRmE_C5UkCZ9"
      },
      "source": [
        "import fiona\r\n",
        "import rasterio\r\n",
        "import rasterio.mask\r\n",
        "import pycrs\r\n",
        "\r\n",
        "from rasterio.plot import show\r\n",
        "from rasterio.plot import show_hist\r\n",
        "from rasterio.mask import mask\r\n",
        "from shapely.geometry import box\r\n",
        "from fiona.crs import from_epsg\r\n"
      ],
      "execution_count": 108,
      "outputs": []
    },
    {
      "cell_type": "code",
      "metadata": {
        "colab": {
          "base_uri": "https://localhost:8080/"
        },
        "id": "op0XsEg5kvsq",
        "outputId": "0e555d42-d179-4030-c899-54c58bae079e"
      },
      "source": [
        "file = 'crops.tif'\r\n",
        "\r\n",
        "data_1 = rasterio.open(file)\r\n",
        "\r\n",
        "print(data_1.shape)"
      ],
      "execution_count": 140,
      "outputs": [
        {
          "output_type": "stream",
          "text": [
            "(1348, 1065)\n"
          ],
          "name": "stdout"
        }
      ]
    },
    {
      "cell_type": "code",
      "metadata": {
        "colab": {
          "base_uri": "https://localhost:8080/",
          "height": 282
        },
        "id": "4-0rFl4Tkv9d",
        "outputId": "270df296-ee3a-4e85-f462-c2b20d7d8a52"
      },
      "source": [
        "show((data_1, 3), cmap='terrain')"
      ],
      "execution_count": 141,
      "outputs": [
        {
          "output_type": "display_data",
          "data": {
            "image/png": "[encoded data removed]",
            "text/plain": [
              "<Figure size 432x288 with 1 Axes>"
            ]
          },
          "metadata": {
            "tags": [],
            "needs_background": "light"
          }
        },
        {
          "output_type": "execute_result",
          "data": {
            "text/plain": [
              "<matplotlib.axes._subplots.AxesSubplot at 0x7fe957bf7690>"
            ]
          },
          "metadata": {
            "tags": []
          },
          "execution_count": 141
        }
      ]
    },
    {
      "cell_type": "code",
      "metadata": {
        "colab": {
          "base_uri": "https://localhost:8080/",
          "height": 121
        },
        "id": "ww0JtcRVPNLi",
        "outputId": "026cd33c-36dc-423c-a3f7-62d05a7422e5"
      },
      "source": [
        "data.geometry[0]"
      ],
      "execution_count": 147,
      "outputs": [
        {
          "output_type": "execute_result",
          "data": {
            "text/plain": [
              "<shapely.geometry.polygon.Polygon at 0x7fe959c5fad0>"
            ],
            "image/svg+xml": "<svg xmlns=\"http://www.w3.org/2000/svg\" xmlns:xlink=\"http://www.w3.org/1999/xlink\" width=\"100.0\" height=\"100.0\" viewBox=\"635760.6395738107 59473.44949733238 39.83539492136333 47.20685342705838\" preserveAspectRatio=\"xMinYMin meet\"><g transform=\"matrix(1,0,0,-1,0,118994.10584809183)\"><path fill-rule=\"evenodd\" fill=\"#66cc99\" stroke=\"#555555\" stroke-width=\"0.9441370685411675\" opacity=\"0.6\" d=\"M 635776.2598575517,59518.90794878066 L 635798.7265667534,59512.93407433634 L 635778.4349066955,59475.19789931116 L 635762.3879757895,59483.20071830105 L 635776.2598575517,59518.90794878066 z\" /></g></svg>"
          },
          "metadata": {
            "tags": []
          },
          "execution_count": 147
        }
      ]
    },
    {
      "cell_type": "code",
      "metadata": {
        "id": "DwjDMeVQkwLm"
      },
      "source": [
        "#Create bounding box with shapely: \r\n",
        "# WGS84 coordinates are:\r\n",
        "minx, miny = 24.60, 60.00\r\n",
        "maxx, maxy = 25.22, 60.35\r\n",
        "bbox = box(minx, miny, maxx, maxy)"
      ],
      "execution_count": 111,
      "outputs": []
    },
    {
      "cell_type": "code",
      "metadata": {
        "colab": {
          "base_uri": "https://localhost:8080/"
        },
        "id": "ARKLXttJnBQg",
        "outputId": "a89e77a2-8f44-41ea-9e31-cbe24ecd7eaa"
      },
      "source": [
        "#Inserting the bounding_box into a GeoDataFrame:\r\n",
        "geo = geopandas.GeoDataFrame({'geometry': bbox}, index=[0], crs=from_epsg(4326))"
      ],
      "execution_count": 112,
      "outputs": [
        {
          "output_type": "stream",
          "text": [
            "/usr/local/lib/python3.7/dist-packages/pyproj/crs/crs.py:53: FutureWarning: '+init=<authority>:<code>' syntax is deprecated. '<authority>:<code>' is the preferred initialization method. When making the change, be mindful of axis order changes: https://pyproj4.github.io/pyproj/stable/gotchas.html#axis-order-changes-in-proj-6\n",
            "  return _prepare_from_string(\" \".join(pjargs))\n"
          ],
          "name": "stderr"
        }
      ]
    },
    {
      "cell_type": "code",
      "metadata": {
        "colab": {
          "base_uri": "https://localhost:8080/"
        },
        "id": "pO-QdneOnPcG",
        "outputId": "62d08581-24ac-45b9-9600-259d69949614"
      },
      "source": [
        "#Re-project into the same coordinate system as the raster data\r\n",
        "geo = geo.to_crs(crs=data_1.crs.data)"
      ],
      "execution_count": 113,
      "outputs": [
        {
          "output_type": "stream",
          "text": [
            "/usr/local/lib/python3.7/dist-packages/pyproj/crs/crs.py:53: FutureWarning: '+init=<authority>:<code>' syntax is deprecated. '<authority>:<code>' is the preferred initialization method. When making the change, be mindful of axis order changes: https://pyproj4.github.io/pyproj/stable/gotchas.html#axis-order-changes-in-proj-6\n",
            "  return _prepare_from_string(\" \".join(pjargs))\n"
          ],
          "name": "stderr"
        }
      ]
    },
    {
      "cell_type": "code",
      "metadata": {
        "id": "_S3oX4hWpIif"
      },
      "source": [
        ""
      ],
      "execution_count": null,
      "outputs": []
    },
    {
      "cell_type": "markdown",
      "metadata": {
        "id": "AwX8zrhbehHC"
      },
      "source": [
        "### Extra Bonus questions"
      ]
    },
    {
      "cell_type": "code",
      "metadata": {
        "id": "Xb6lwgS2ehHE"
      },
      "source": [
        "import fiona\r\n",
        "import rasterio\r\n",
        "import rasterio.mask\r\n",
        "import pycrs\r\n",
        "\r\n",
        "\r\n",
        "def masked_raster(input_file, raster_file):\r\n",
        "    # Create a masked version of the input raster where pixels falling within one of the fields are set to `1` and pixels outside the fields are set to `0`\r\n",
        "    \r\n",
        "    # WRITE YOUR CODE HERE\r\n",
        "    data = rasterio.open(raster_file)\r\n",
        "    \r\n",
        "\r\n",
        "    #creating the a bounding box with Shapely\r\n",
        "    ## WGS84 coordinates\r\n",
        "    minx, miny = 24.60, 60.00\r\n",
        "    maxx, maxy = 25.22, 60.35\r\n",
        "    bbox = box(minx, miny, maxx, maxy)\r\n",
        "\r\n",
        "    #inserting the bounding box into GeoDataFrame\r\n",
        "    geo = geopandas.GeoDataFrame({'geometry': bbox}, index=[0], crs=from_epsg(4326))\r\n",
        "\r\n",
        "    #Re-project into the same coordinate system as the raster data\r\n",
        "    geo = geo.to_crs(crs=data.crs.data)\r\n",
        "\r\n",
        "    #get the coordinates of the geometry in a proper format of rasterio\r\n",
        "    def getFeatures(gdf):\r\n",
        "      \"\"\"Function to parse features from GeoDataFrame in such a manner that rasterio wants them\"\"\"\r\n",
        "      import json\r\n",
        "      return [json.loads(gdf.to_json())['features'][0]['geometry']]\r\n",
        "\r\n",
        "    #Getting the geometry coordinates by using the function\r\n",
        "    coordinates = getFeatures(geo)\r\n",
        "    # mask to clip the raster with the polygon using the coords variable\r\n",
        "    out_img, out_transform = mask(data, shapes=coordinates, crop=True)\r\n",
        "\r\n",
        "    out_img = rasterio.open(raster_file).read()\r\n",
        "    return out_img\r\n",
        "\r\n",
        "def reproject_raster(raster_file, dst_crs):\r\n",
        "    # Reproject the input raster to the provided CRS\r\n",
        "    \r\n",
        "    src = rasterio.open(raster_file)\r\n",
        "    \r\n",
        "    # Parse EPSG code\r\n",
        "    epsg_code = int(data.crs.data['init'][5:])\r\n",
        "\r\n",
        "    #copy metadata\r\n",
        "    out_meta = raster_file.meta.copy()\r\n",
        "    #update the metadata with new dimensions, transform (affine) and CRS \r\n",
        "    out_meta.update({\"driver\": \"GTiff\", \"height\": out_img.shape[1], \"width\": out_img.shape[2], \"transform\": out_transform, \"crs\": pycrs.parser.from_epsg_code(epsg_code).to_proj4()})\r\n",
        "\r\n",
        "    #save the clipped raster to disk\r\n",
        "    with rasterio.open(out_tif, \"w\", **out_meta) as dst:\r\n",
        "      dst.write(out_img)\r\n",
        "\r\n",
        "\r\n",
        "    dst = src\r\n",
        "    \r\n",
        "    return dst"
      ],
      "execution_count": 152,
      "outputs": []
    },
    {
      "cell_type": "code",
      "metadata": {
        "id": "-xcLH8Q1Knlj"
      },
      "source": [
        ""
      ],
      "execution_count": 150,
      "outputs": []
    },
    {
      "cell_type": "code",
      "metadata": {
        "colab": {
          "base_uri": "https://localhost:8080/",
          "height": 479
        },
        "id": "3XlPvSAeehHG",
        "outputId": "6c436255-2805-4fac-93f8-ad958d5b5aee"
      },
      "source": [
        "# Run this to validate your function works correctly\n",
        "\n",
        "assert masked_raster('crops.geojson', 'crops.tif')[0].sum() == 1144636.0, \"Sorry wrong answer\"\n",
        "assert str(reproject_raster('crops.tif', 'EPSG:4326').crs) == 'EPSG:4326', \"Sorry wrong answer\"\n",
        "print(\"Congratulations, all is working just fine !!!\")"
      ],
      "execution_count": 153,
      "outputs": [
        {
          "output_type": "stream",
          "text": [
            "/usr/local/lib/python3.7/dist-packages/pyproj/crs/crs.py:53: FutureWarning: '+init=<authority>:<code>' syntax is deprecated. '<authority>:<code>' is the preferred initialization method. When making the change, be mindful of axis order changes: https://pyproj4.github.io/pyproj/stable/gotchas.html#axis-order-changes-in-proj-6\n",
            "  return _prepare_from_string(\" \".join(pjargs))\n"
          ],
          "name": "stderr"
        },
        {
          "output_type": "error",
          "ename": "ValueError",
          "evalue": "ignored",
          "traceback": [
            "\u001b[0;31m---------------------------------------------------------------------------\u001b[0m",
            "\u001b[0;31mWindowError\u001b[0m                               Traceback (most recent call last)",
            "\u001b[0;32m/usr/local/lib/python3.7/dist-packages/rasterio/mask.py\u001b[0m in \u001b[0;36mraster_geometry_mask\u001b[0;34m(dataset, shapes, all_touched, invert, crop, pad, pad_width)\u001b[0m\n\u001b[1;32m     79\u001b[0m     \u001b[0;32mtry\u001b[0m\u001b[0;34m:\u001b[0m\u001b[0;34m\u001b[0m\u001b[0;34m\u001b[0m\u001b[0m\n\u001b[0;32m---> 80\u001b[0;31m         \u001b[0mwindow\u001b[0m \u001b[0;34m=\u001b[0m \u001b[0mgeometry_window\u001b[0m\u001b[0;34m(\u001b[0m\u001b[0mdataset\u001b[0m\u001b[0;34m,\u001b[0m \u001b[0mshapes\u001b[0m\u001b[0;34m,\u001b[0m \u001b[0mpad_x\u001b[0m\u001b[0;34m=\u001b[0m\u001b[0mpad_x\u001b[0m\u001b[0;34m,\u001b[0m \u001b[0mpad_y\u001b[0m\u001b[0;34m=\u001b[0m\u001b[0mpad_y\u001b[0m\u001b[0;34m)\u001b[0m\u001b[0;34m\u001b[0m\u001b[0;34m\u001b[0m\u001b[0m\n\u001b[0m\u001b[1;32m     81\u001b[0m \u001b[0;34m\u001b[0m\u001b[0m\n",
            "\u001b[0;32m/usr/local/lib/python3.7/dist-packages/rasterio/features.py\u001b[0m in \u001b[0;36mgeometry_window\u001b[0;34m(dataset, shapes, pad_x, pad_y, north_up, rotated, pixel_precision, boundless)\u001b[0m\n\u001b[1;32m    493\u001b[0m     \u001b[0;32mif\u001b[0m \u001b[0;32mnot\u001b[0m \u001b[0mboundless\u001b[0m\u001b[0;34m:\u001b[0m\u001b[0;34m\u001b[0m\u001b[0;34m\u001b[0m\u001b[0m\n\u001b[0;32m--> 494\u001b[0;31m         \u001b[0mwindow\u001b[0m \u001b[0;34m=\u001b[0m \u001b[0mwindow\u001b[0m\u001b[0;34m.\u001b[0m\u001b[0mintersection\u001b[0m\u001b[0;34m(\u001b[0m\u001b[0mraster_window\u001b[0m\u001b[0;34m)\u001b[0m\u001b[0;34m\u001b[0m\u001b[0;34m\u001b[0m\u001b[0m\n\u001b[0m\u001b[1;32m    495\u001b[0m \u001b[0;34m\u001b[0m\u001b[0m\n",
            "\u001b[0;32m/usr/local/lib/python3.7/dist-packages/rasterio/windows.py\u001b[0m in \u001b[0;36mintersection\u001b[0;34m(self, other)\u001b[0m\n\u001b[1;32m    735\u001b[0m         \"\"\"\n\u001b[0;32m--> 736\u001b[0;31m         \u001b[0;32mreturn\u001b[0m \u001b[0mintersection\u001b[0m\u001b[0;34m(\u001b[0m\u001b[0;34m[\u001b[0m\u001b[0mself\u001b[0m\u001b[0;34m,\u001b[0m \u001b[0mother\u001b[0m\u001b[0;34m]\u001b[0m\u001b[0;34m)\u001b[0m\u001b[0;34m\u001b[0m\u001b[0;34m\u001b[0m\u001b[0m\n\u001b[0m",
            "\u001b[0;32m/usr/local/lib/python3.7/dist-packages/rasterio/windows.py\u001b[0m in \u001b[0;36mwrapper\u001b[0;34m(*args, **kwargs)\u001b[0m\n\u001b[1;32m    112\u001b[0m         \u001b[0;32mif\u001b[0m \u001b[0mlen\u001b[0m\u001b[0;34m(\u001b[0m\u001b[0margs\u001b[0m\u001b[0;34m)\u001b[0m \u001b[0;34m==\u001b[0m \u001b[0;36m1\u001b[0m \u001b[0;32mand\u001b[0m \u001b[0misinstance\u001b[0m\u001b[0;34m(\u001b[0m\u001b[0margs\u001b[0m\u001b[0;34m[\u001b[0m\u001b[0;36m0\u001b[0m\u001b[0;34m]\u001b[0m\u001b[0;34m,\u001b[0m \u001b[0mIterable\u001b[0m\u001b[0;34m)\u001b[0m\u001b[0;34m:\u001b[0m\u001b[0;34m\u001b[0m\u001b[0;34m\u001b[0m\u001b[0m\n\u001b[0;32m--> 113\u001b[0;31m             \u001b[0;32mreturn\u001b[0m \u001b[0mfunction\u001b[0m\u001b[0;34m(\u001b[0m\u001b[0;34m*\u001b[0m\u001b[0margs\u001b[0m\u001b[0;34m[\u001b[0m\u001b[0;36m0\u001b[0m\u001b[0;34m]\u001b[0m\u001b[0;34m)\u001b[0m\u001b[0;34m\u001b[0m\u001b[0;34m\u001b[0m\u001b[0m\n\u001b[0m\u001b[1;32m    114\u001b[0m         \u001b[0;32melse\u001b[0m\u001b[0;34m:\u001b[0m\u001b[0;34m\u001b[0m\u001b[0;34m\u001b[0m\u001b[0m\n",
            "\u001b[0;32m/usr/local/lib/python3.7/dist-packages/rasterio/windows.py\u001b[0m in \u001b[0;36mintersection\u001b[0;34m(*windows)\u001b[0m\n\u001b[1;32m    210\u001b[0m     \u001b[0;32mif\u001b[0m \u001b[0;32mnot\u001b[0m \u001b[0mintersect\u001b[0m\u001b[0;34m(\u001b[0m\u001b[0mwindows\u001b[0m\u001b[0;34m)\u001b[0m\u001b[0;34m:\u001b[0m\u001b[0;34m\u001b[0m\u001b[0;34m\u001b[0m\u001b[0m\n\u001b[0;32m--> 211\u001b[0;31m         \u001b[0;32mraise\u001b[0m \u001b[0mWindowError\u001b[0m\u001b[0;34m(\u001b[0m\u001b[0;34m\"windows do not intersect\"\u001b[0m\u001b[0;34m)\u001b[0m\u001b[0;34m\u001b[0m\u001b[0;34m\u001b[0m\u001b[0m\n\u001b[0m\u001b[1;32m    212\u001b[0m \u001b[0;34m\u001b[0m\u001b[0m\n",
            "\u001b[0;31mWindowError\u001b[0m: windows do not intersect",
            "\nDuring handling of the above exception, another exception occurred:\n",
            "\u001b[0;31mValueError\u001b[0m                                Traceback (most recent call last)",
            "\u001b[0;32m<ipython-input-153-251d26b16697>\u001b[0m in \u001b[0;36m<module>\u001b[0;34m()\u001b[0m\n\u001b[1;32m      1\u001b[0m \u001b[0;31m# Run this to validate your function works correctly\u001b[0m\u001b[0;34m\u001b[0m\u001b[0;34m\u001b[0m\u001b[0;34m\u001b[0m\u001b[0m\n\u001b[1;32m      2\u001b[0m \u001b[0;34m\u001b[0m\u001b[0m\n\u001b[0;32m----> 3\u001b[0;31m \u001b[0;32massert\u001b[0m \u001b[0mmasked_raster\u001b[0m\u001b[0;34m(\u001b[0m\u001b[0;34m'crops.geojson'\u001b[0m\u001b[0;34m,\u001b[0m \u001b[0;34m'crops.tif'\u001b[0m\u001b[0;34m)\u001b[0m\u001b[0;34m[\u001b[0m\u001b[0;36m0\u001b[0m\u001b[0;34m]\u001b[0m\u001b[0;34m.\u001b[0m\u001b[0msum\u001b[0m\u001b[0;34m(\u001b[0m\u001b[0;34m)\u001b[0m \u001b[0;34m==\u001b[0m \u001b[0;36m1144636.0\u001b[0m\u001b[0;34m,\u001b[0m \u001b[0;34m\"Sorry wrong answer\"\u001b[0m\u001b[0;34m\u001b[0m\u001b[0;34m\u001b[0m\u001b[0m\n\u001b[0m\u001b[1;32m      4\u001b[0m \u001b[0;32massert\u001b[0m \u001b[0mstr\u001b[0m\u001b[0;34m(\u001b[0m\u001b[0mreproject_raster\u001b[0m\u001b[0;34m(\u001b[0m\u001b[0;34m'crops.tif'\u001b[0m\u001b[0;34m,\u001b[0m \u001b[0;34m'EPSG:4326'\u001b[0m\u001b[0;34m)\u001b[0m\u001b[0;34m.\u001b[0m\u001b[0mcrs\u001b[0m\u001b[0;34m)\u001b[0m \u001b[0;34m==\u001b[0m \u001b[0;34m'EPSG:4326'\u001b[0m\u001b[0;34m,\u001b[0m \u001b[0;34m\"Sorry wrong answer\"\u001b[0m\u001b[0;34m\u001b[0m\u001b[0;34m\u001b[0m\u001b[0m\n\u001b[1;32m      5\u001b[0m \u001b[0mprint\u001b[0m\u001b[0;34m(\u001b[0m\u001b[0;34m\"Congratulations, all is working just fine !!!\"\u001b[0m\u001b[0;34m)\u001b[0m\u001b[0;34m\u001b[0m\u001b[0;34m\u001b[0m\u001b[0m\n",
            "\u001b[0;32m<ipython-input-152-569a2d22e687>\u001b[0m in \u001b[0;36mmasked_raster\u001b[0;34m(input_file, raster_file)\u001b[0m\n\u001b[1;32m     33\u001b[0m     \u001b[0mcoordinates\u001b[0m \u001b[0;34m=\u001b[0m \u001b[0mgetFeatures\u001b[0m\u001b[0;34m(\u001b[0m\u001b[0mgeo\u001b[0m\u001b[0;34m)\u001b[0m\u001b[0;34m\u001b[0m\u001b[0;34m\u001b[0m\u001b[0m\n\u001b[1;32m     34\u001b[0m     \u001b[0;31m# mask to clip the raster with the polygon using the coords variable\u001b[0m\u001b[0;34m\u001b[0m\u001b[0;34m\u001b[0m\u001b[0;34m\u001b[0m\u001b[0m\n\u001b[0;32m---> 35\u001b[0;31m     \u001b[0mout_img\u001b[0m\u001b[0;34m,\u001b[0m \u001b[0mout_transform\u001b[0m \u001b[0;34m=\u001b[0m \u001b[0mmask\u001b[0m\u001b[0;34m(\u001b[0m\u001b[0mdata\u001b[0m\u001b[0;34m,\u001b[0m \u001b[0mshapes\u001b[0m\u001b[0;34m=\u001b[0m\u001b[0mcoordinates\u001b[0m\u001b[0;34m,\u001b[0m \u001b[0mcrop\u001b[0m\u001b[0;34m=\u001b[0m\u001b[0;32mTrue\u001b[0m\u001b[0;34m)\u001b[0m\u001b[0;34m\u001b[0m\u001b[0;34m\u001b[0m\u001b[0m\n\u001b[0m\u001b[1;32m     36\u001b[0m \u001b[0;34m\u001b[0m\u001b[0m\n\u001b[1;32m     37\u001b[0m     \u001b[0mout_img\u001b[0m \u001b[0;34m=\u001b[0m \u001b[0mrasterio\u001b[0m\u001b[0;34m.\u001b[0m\u001b[0mopen\u001b[0m\u001b[0;34m(\u001b[0m\u001b[0mraster_file\u001b[0m\u001b[0;34m)\u001b[0m\u001b[0;34m.\u001b[0m\u001b[0mread\u001b[0m\u001b[0;34m(\u001b[0m\u001b[0;34m)\u001b[0m\u001b[0;34m\u001b[0m\u001b[0;34m\u001b[0m\u001b[0m\n",
            "\u001b[0;32m/usr/local/lib/python3.7/dist-packages/rasterio/mask.py\u001b[0m in \u001b[0;36mmask\u001b[0;34m(dataset, shapes, all_touched, invert, nodata, filled, crop, pad, pad_width, indexes)\u001b[0m\n\u001b[1;32m    178\u001b[0m     shape_mask, transform, window = raster_geometry_mask(\n\u001b[1;32m    179\u001b[0m         \u001b[0mdataset\u001b[0m\u001b[0;34m,\u001b[0m \u001b[0mshapes\u001b[0m\u001b[0;34m,\u001b[0m \u001b[0mall_touched\u001b[0m\u001b[0;34m=\u001b[0m\u001b[0mall_touched\u001b[0m\u001b[0;34m,\u001b[0m \u001b[0minvert\u001b[0m\u001b[0;34m=\u001b[0m\u001b[0minvert\u001b[0m\u001b[0;34m,\u001b[0m \u001b[0mcrop\u001b[0m\u001b[0;34m=\u001b[0m\u001b[0mcrop\u001b[0m\u001b[0;34m,\u001b[0m\u001b[0;34m\u001b[0m\u001b[0;34m\u001b[0m\u001b[0m\n\u001b[0;32m--> 180\u001b[0;31m         pad=pad, pad_width=pad_width)\n\u001b[0m\u001b[1;32m    181\u001b[0m \u001b[0;34m\u001b[0m\u001b[0m\n\u001b[1;32m    182\u001b[0m     \u001b[0;32mif\u001b[0m \u001b[0mindexes\u001b[0m \u001b[0;32mis\u001b[0m \u001b[0;32mNone\u001b[0m\u001b[0;34m:\u001b[0m\u001b[0;34m\u001b[0m\u001b[0;34m\u001b[0m\u001b[0m\n",
            "\u001b[0;32m/usr/local/lib/python3.7/dist-packages/rasterio/mask.py\u001b[0m in \u001b[0;36mraster_geometry_mask\u001b[0;34m(dataset, shapes, all_touched, invert, crop, pad, pad_width)\u001b[0m\n\u001b[1;32m     84\u001b[0m         \u001b[0;31m# depending on value of crop\u001b[0m\u001b[0;34m\u001b[0m\u001b[0;34m\u001b[0m\u001b[0;34m\u001b[0m\u001b[0m\n\u001b[1;32m     85\u001b[0m         \u001b[0;32mif\u001b[0m \u001b[0mcrop\u001b[0m\u001b[0;34m:\u001b[0m\u001b[0;34m\u001b[0m\u001b[0;34m\u001b[0m\u001b[0m\n\u001b[0;32m---> 86\u001b[0;31m             \u001b[0;32mraise\u001b[0m \u001b[0mValueError\u001b[0m\u001b[0;34m(\u001b[0m\u001b[0;34m'Input shapes do not overlap raster.'\u001b[0m\u001b[0;34m)\u001b[0m\u001b[0;34m\u001b[0m\u001b[0;34m\u001b[0m\u001b[0m\n\u001b[0m\u001b[1;32m     87\u001b[0m         \u001b[0;32melse\u001b[0m\u001b[0;34m:\u001b[0m\u001b[0;34m\u001b[0m\u001b[0;34m\u001b[0m\u001b[0m\n\u001b[1;32m     88\u001b[0m             warnings.warn('shapes are outside bounds of raster. '\n",
            "\u001b[0;31mValueError\u001b[0m: Input shapes do not overlap raster."
          ]
        }
      ]
    },
    {
      "cell_type": "code",
      "metadata": {
        "id": "M1O5Y6mGehHJ"
      },
      "source": [
        ""
      ],
      "execution_count": null,
      "outputs": []
    }
  ]
}